{
 "cells": [
  {
   "cell_type": "code",
   "execution_count": 1,
   "id": "33051775",
   "metadata": {
    "ExecuteTime": {
     "end_time": "2023-09-27T08:28:59.684716Z",
     "start_time": "2023-09-27T08:28:56.919800Z"
    }
   },
   "outputs": [
    {
     "name": "stderr",
     "output_type": "stream",
     "text": [
      "/var/folders/dk/2y17dwn916n0849gyw2c2q3c0000gn/T/ipykernel_5397/3955755750.py:5: DeprecationWarning: ``qiskit.algorithms`` has been migrated to an independent package: https://github.com/qiskit-community/qiskit-algorithms. The ``qiskit.algorithms`` import path is deprecated as of qiskit-terra 0.25.0 and will be removed no earlier than 3 months after the release date. Please run ``pip install qiskit_algorithms`` and use ``import qiskit_algorithms`` instead.\n",
      "  from qiskit.algorithms.optimizers import GradientDescent, ADAM, L_BFGS_B\n"
     ]
    }
   ],
   "source": [
    "import numpy as np\n",
    "from qiskit import *\n",
    "from qiskit.visualization import plot_histogram\n",
    "from qiskit.circuit.library import *\n",
    "from qiskit.algorithms.optimizers import GradientDescent, ADAM, L_BFGS_B\n",
    "from qiskit.quantum_info.operators import Operator\n",
    "from qiskit.primitives import Estimator\n",
    "from qiskit.circuit import Parameter\n",
    "from qiskit.quantum_info import DensityMatrix\n",
    "from scipy.optimize import *\n",
    "import matplotlib.pyplot as plt\n",
    "from qiskit.algorithms import SciPyImaginaryEvolver"
   ]
  },
  {
   "cell_type": "code",
   "execution_count": 2,
   "id": "cdb67f7f",
   "metadata": {
    "ExecuteTime": {
     "end_time": "2023-09-27T08:29:01.126056Z",
     "start_time": "2023-09-27T08:29:01.108433Z"
    }
   },
   "outputs": [],
   "source": [
    "def Ham(N, a, b):\n",
    "    \n",
    "    def krId(N):\n",
    "        matrix = np.array(1)\n",
    "        for j in range(N):\n",
    "            matrix = np.kron(matrix, IGate())\n",
    "        return matrix  \n",
    "    \n",
    "    def ktot(N):\n",
    "        def k_m(N,a,m):\n",
    "            k = (krId(N)-krZ(m,N))/2.0\n",
    "            return k\n",
    "        sum = 0\n",
    "        for h in range(N):\n",
    "            sum += 2**h * k_m(N,1,h)\n",
    "        return sum\n",
    "    mat = a**2 * np.linalg.matrix_power(((0.5 * np.kron(ZGate(), krId(N-1)) + np.kron(ZGate(),ktot(N-1)))),b) \n",
    "    return mat\n",
    "        "
   ]
  },
  {
   "cell_type": "code",
   "execution_count": 4,
   "id": "28e7eb09",
   "metadata": {
    "ExecuteTime": {
     "end_time": "2023-09-27T08:29:01.853783Z",
     "start_time": "2023-09-27T08:29:01.834851Z"
    }
   },
   "outputs": [],
   "source": [
    "def krZ(m, N):\n",
    "        matrix = np.array(1)\n",
    "        for j in range(N):\n",
    "            if m == j:\n",
    "                matrix = np.kron(matrix, ZGate())     \n",
    "            else:\n",
    "                matrix = np.kron(matrix, IGate())\n",
    "        return matrix  \n"
   ]
  },
  {
   "cell_type": "code",
   "execution_count": 8,
   "id": "873fdeda",
   "metadata": {
    "ExecuteTime": {
     "end_time": "2023-09-27T08:29:02.599589Z",
     "start_time": "2023-09-27T08:29:02.581868Z"
    }
   },
   "outputs": [
    {
     "data": {
      "text/plain": [
       "array([[1.+0.j, 0.+0.j, 0.+0.j, 0.+0.j],\n",
       "       [0.+0.j, 1.+0.j, 0.+0.j, 0.+0.j],\n",
       "       [0.+0.j, 0.+0.j, 1.+0.j, 0.+0.j],\n",
       "       [0.+0.j, 0.+0.j, 0.+0.j, 1.+0.j]])"
      ]
     },
     "execution_count": 8,
     "metadata": {},
     "output_type": "execute_result"
    }
   ],
   "source": [
    "krZ(0,2)"
   ]
  },
  {
   "cell_type": "code",
   "execution_count": 8,
   "id": "436be370",
   "metadata": {
    "ExecuteTime": {
     "end_time": "2023-09-27T08:29:03.857050Z",
     "start_time": "2023-09-27T08:29:03.490102Z"
    }
   },
   "outputs": [],
   "source": [
    "def Ansatz(depth, N, param_num_perlayer):\n",
    "    #if param_num_perlayer > N**2:\n",
    "     #   raise Exception('number of parameters are bigger then the rotation gates possible')\n",
    "        \n",
    "    circuit = QuantumCircuit(N)\n",
    "    thetas = []\n",
    "    for l in range(param_num_perlayer*depth):\n",
    "        thetas.append(Parameter('θ_'+str(l)))\n",
    "    counter_2 = 0\n",
    "    for i in range(depth):\n",
    "        circuit.barrier()\n",
    "        counter = 0\n",
    "        for j in range(N):\n",
    "            if j+counter + counter_2 <len(thetas) and j+counter+counter_2 < param_num_perlayer *(i+1):\n",
    "                circuit.rx(thetas[j+counter + counter_2],j)\n",
    "            if j+1+counter + counter_2 <len(thetas) and j+1+counter+counter_2 < param_num_perlayer *(i+1):\n",
    "                circuit.ry(thetas[j+1+counter + counter_2],j)\n",
    "            if j+2+counter + counter_2< len(thetas) and j+2+counter+counter_2 < param_num_perlayer *(i+1):\n",
    "                circuit.rz(thetas[j+2+counter + counter_2],j)\n",
    "            else: \n",
    "                break\n",
    "            counter += 2\n",
    "        counter_2 += param_num_perlayer  \n",
    "        for p in range(N):\n",
    "            if p+1 < len(range(N)):\n",
    "                circuit.cx(p,(p+1))\n",
    "            else:\n",
    "                break\n",
    "    return circuit"
   ]
  },
  {
   "cell_type": "code",
   "execution_count": 9,
   "id": "3ba866bb",
   "metadata": {
    "ExecuteTime": {
     "end_time": "2023-09-27T08:29:04.812677Z",
     "start_time": "2023-09-27T08:29:04.790604Z"
    }
   },
   "outputs": [],
   "source": [
    "def costfn(param, ansatz):\n",
    "    state = ansatz\n",
    "    binded = state.bind_parameters({state.parameters[i]:param[i] for i in range(len(param))})\n",
    "    op = Operator(Ham(2,1,2)-Ham(2,1,4))\n",
    "    estimator = Estimator()\n",
    "    expectation_value = estimator.run(binded, op).result().values[0]  \n",
    "    return expectation_value"
   ]
  },
  {
   "cell_type": "code",
   "execution_count": 10,
   "id": "4eaf13ac",
   "metadata": {
    "ExecuteTime": {
     "end_time": "2023-09-27T08:29:06.400446Z",
     "start_time": "2023-09-27T08:29:06.383441Z"
    }
   },
   "outputs": [],
   "source": [
    "def optimization(theta_start,cost_fun,ansatz):\n",
    "    optvalues=[]\n",
    "    def callback(intermediate_result):\n",
    "        optvalues.append(intermediate_result.fun)\n",
    "    \n",
    "    optimized = minimize(fun=cost_fun, x0=theta_start,args=(ansatz), method=\"L-BFGS-B\", callback=callback )\n",
    "    state = ansatz\n",
    "    statevector = state.bind_parameters({state.parameters[i]:optimized.x[i] for i in range(len(optimized.x))})\n",
    "    return optimized, optimized.x, statevector, optvalues"
   ]
  },
  {
   "cell_type": "code",
   "execution_count": 11,
   "id": "89e027a2",
   "metadata": {
    "ExecuteTime": {
     "end_time": "2023-09-27T08:29:09.967341Z",
     "start_time": "2023-09-27T08:29:07.229437Z"
    }
   },
   "outputs": [],
   "source": [
    "optimized2=optimization(np.random.uniform(low=0, high=np.pi, size=(24)), costfn, Ansatz(4,2,6))\n",
    "optimized3=optimization(np.random.uniform(low=0, high=np.pi, size=(12)), costfn, Ansatz(2,2,6))"
   ]
  },
  {
   "cell_type": "code",
   "execution_count": 12,
   "id": "17fd0987",
   "metadata": {
    "ExecuteTime": {
     "end_time": "2023-09-27T08:29:12.686203Z",
     "start_time": "2023-09-27T08:29:12.490638Z"
    }
   },
   "outputs": [
    {
     "data": {
      "text/plain": [
       "<matplotlib.legend.Legend at 0x137a5c5d0>"
      ]
     },
     "execution_count": 12,
     "metadata": {},
     "output_type": "execute_result"
    },
    {
     "data": {
      "image/png": "[encoded data removed]",
      "text/plain": [
       "<Figure size 640x480 with 1 Axes>"
      ]
     },
     "metadata": {},
     "output_type": "display_data"
    }
   ],
   "source": [
    "fig = plt.figure()\n",
    "plt.plot(optimized2[3],'r--',label=\"Ansatz(4,2,6)\")\n",
    "plt.plot(optimized3[3],'b--', label=\"Ansatz(2,2,6)\")\n",
    "plt.legend()\n",
    "\n",
    "\n"
   ]
  },
  {
   "cell_type": "code",
   "execution_count": 13,
   "id": "02e8bff9",
   "metadata": {
    "ExecuteTime": {
     "end_time": "2023-09-17T10:30:59.672342Z",
     "start_time": "2023-09-17T10:30:57.542008Z"
    }
   },
   "outputs": [],
   "source": [
    "Ansatz(2,2,6).draw(\"mpl\")"
   ]
  },
  {
   "cell_type": "code",
   "execution_count": 14,
   "id": "af7cfaee",
   "metadata": {
    "ExecuteTime": {
     "end_time": "2023-09-17T10:31:03.373282Z",
     "start_time": "2023-09-17T10:31:03.194174Z"
    }
   },
   "outputs": [
    {
     "data": {
      "text/plain": [
       "<matplotlib.legend.Legend at 0x1380fb810>"
      ]
     },
     "execution_count": 14,
     "metadata": {},
     "output_type": "execute_result"
    },
    {
     "data": {
      "image/png": "[encoded data removed]",
      "text/plain": [
       "<Figure size 640x480 with 1 Axes>"
      ]
     },
     "metadata": {},
     "output_type": "display_data"
    }
   ],
   "source": [
    "print(optimized2[0])"
   ]
  },
  {
   "cell_type": "code",
   "execution_count": 15,
   "id": "660b5229",
   "metadata": {
    "ExecuteTime": {
     "end_time": "2023-09-17T10:31:07.788300Z",
     "start_time": "2023-09-17T10:31:06.955449Z"
    }
   },
   "outputs": [
    {
     "data": {
      "image/png": "[encoded data removed]",
      "text/plain": [
       "<Figure size 956.183x200.667 with 1 Axes>"
      ]
     },
     "execution_count": 15,
     "metadata": {},
     "output_type": "execute_result"
    }
   ],
   "source": []
  },
  {
   "cell_type": "code",
   "execution_count": 10,
   "id": "f13665b8",
   "metadata": {
    "ExecuteTime": {
     "end_time": "2023-09-17T10:32:43.459798Z",
     "start_time": "2023-09-17T10:32:43.447408Z"
    }
   },
   "outputs": [
    {
     "ename": "NameError",
     "evalue": "name 'expectation_value' is not defined",
     "output_type": "error",
     "traceback": [
      "\u001b[0;31m---------------------------------------------------------------------------\u001b[0m",
      "\u001b[0;31mNameError\u001b[0m                                 Traceback (most recent call last)",
      "Cell \u001b[0;32mIn[10], line 1\u001b[0m\n\u001b[0;32m----> 1\u001b[0m \u001b[38;5;28mprint\u001b[39m(expectation_value)\n",
      "\u001b[0;31mNameError\u001b[0m: name 'expectation_value' is not defined"
     ]
    }
   ],
   "source": [
    "print(expectation_value)"
   ]
  },
  {
   "cell_type": "code",
   "execution_count": 138,
   "id": "b112ce18",
   "metadata": {},
   "outputs": [
    {
     "data": {
      "text/plain": [
       "array([0.24559951, 0.25683956, 1.507403  , 0.15822727])"
      ]
     },
     "execution_count": 138,
     "metadata": {},
     "output_type": "execute_result"
    }
   ],
   "source": [
    "np.random.uniform(low=0, high=np.pi, size=(4))"
   ]
  },
  {
   "cell_type": "code",
   "execution_count": 16,
   "id": "0729a6d3",
   "metadata": {
    "ExecuteTime": {
     "end_time": "2023-09-17T10:32:32.070965Z",
     "start_time": "2023-09-17T10:32:32.058077Z"
    }
   },
   "outputs": [],
   "source": []
  }
 ],
 "metadata": {
  "kernelspec": {
   "display_name": "Python 3 (ipykernel)",
   "language": "python",
   "name": "python3"
  },
  "language_info": {
   "codemirror_mode": {
    "name": "ipython",
    "version": 3
   },
   "file_extension": ".py",
   "mimetype": "text/x-python",
   "name": "python",
   "nbconvert_exporter": "python",
   "pygments_lexer": "ipython3",
   "version": "3.11.7"
  }
 },
 "nbformat": 4,
 "nbformat_minor": 5
}
