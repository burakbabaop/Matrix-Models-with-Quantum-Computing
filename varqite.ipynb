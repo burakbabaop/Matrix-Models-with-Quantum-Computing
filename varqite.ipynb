{
 "cells": [
  {
   "cell_type": "code",
   "execution_count": 97,
   "id": "b38175c4",
   "metadata": {
    "scrolled": true,
    "ExecuteTime": {
     "end_time": "2023-11-07T20:26:38.663697Z",
     "start_time": "2023-11-07T20:26:38.658539Z"
    }
   },
   "outputs": [],
   "source": [
    "import numpy as np\n",
    "import Hamilton as hm\n",
    "import Ansatz as an\n",
    "from qiskit import *\n",
    "from qiskit.visualization import plot_histogram\n",
    "from qiskit.primitives import Estimator\n",
    "from qiskit.algorithms import VarQITE\n",
    "from qiskit.algorithms.time_evolvers.variational import ImaginaryMcLachlanPrinciple\n",
    "from qiskit.algorithms import TimeEvolutionProblem\n",
    "from qiskit.quantum_info import *\n",
    "import pylab\n",
    "from qiskit.algorithms import SciPyImaginaryEvolver\n",
    "from qiskit.quantum_info import Statevector\n",
    "import matplotlib.pyplot as plt\n",
    "from qiskit_aer import AerSimulator\n",
    "from qiskit.circuit import Parameter\n"
   ]
  },
  {
   "cell_type": "markdown",
   "id": "cf59bf27",
   "metadata": {},
   "source": [
    "## evolution"
   ]
  },
  {
   "cell_type": "code",
   "execution_count": 81,
   "id": "f3a2650c",
   "metadata": {
    "ExecuteTime": {
     "end_time": "2023-11-07T20:05:07.120056Z",
     "start_time": "2023-11-07T20:04:55.747399Z"
    }
   },
   "outputs": [
    {
     "ename": "KeyboardInterrupt",
     "evalue": "",
     "output_type": "error",
     "traceback": [
      "\u001B[0;31m---------------------------------------------------------------------------\u001B[0m",
      "\u001B[0;31mKeyboardInterrupt\u001B[0m                         Traceback (most recent call last)",
      "Cell \u001B[0;32mIn[81], line 11\u001B[0m\n\u001B[1;32m      9\u001B[0m evolution_problem \u001B[38;5;241m=\u001B[39m TimeEvolutionProblem(hamiltonian, time, aux_operators\u001B[38;5;241m=\u001B[39maux_ops)\n\u001B[1;32m     10\u001B[0m var_qite \u001B[38;5;241m=\u001B[39m VarQITE(ansatz, init_param_values, var_principle, Estimator())\n\u001B[0;32m---> 11\u001B[0m evolution_result \u001B[38;5;241m=\u001B[39m var_qite\u001B[38;5;241m.\u001B[39mevolve(evolution_problem)\n",
      "File \u001B[0;32m~/anaconda3/envs/MatrixModels/lib/python3.11/site-packages/qiskit/algorithms/time_evolvers/variational/var_qte.py:155\u001B[0m, in \u001B[0;36mVarQTE.evolve\u001B[0;34m(self, evolution_problem)\u001B[0m\n\u001B[1;32m    152\u001B[0m \u001B[38;5;28;01melse\u001B[39;00m:\n\u001B[1;32m    153\u001B[0m     hamiltonian \u001B[38;5;241m=\u001B[39m evolution_problem\u001B[38;5;241m.\u001B[39mhamiltonian\n\u001B[0;32m--> 155\u001B[0m evolved_state, param_values, time_points \u001B[38;5;241m=\u001B[39m \u001B[38;5;28mself\u001B[39m\u001B[38;5;241m.\u001B[39m_evolve(\n\u001B[1;32m    156\u001B[0m     init_state_param_dict,\n\u001B[1;32m    157\u001B[0m     hamiltonian,\n\u001B[1;32m    158\u001B[0m     evolution_problem\u001B[38;5;241m.\u001B[39mtime,\n\u001B[1;32m    159\u001B[0m     evolution_problem\u001B[38;5;241m.\u001B[39mt_param,\n\u001B[1;32m    160\u001B[0m )\n\u001B[1;32m    162\u001B[0m observables \u001B[38;5;241m=\u001B[39m []\n\u001B[1;32m    163\u001B[0m \u001B[38;5;28;01mif\u001B[39;00m evolution_problem\u001B[38;5;241m.\u001B[39maux_operators \u001B[38;5;129;01mis\u001B[39;00m \u001B[38;5;129;01mnot\u001B[39;00m \u001B[38;5;28;01mNone\u001B[39;00m:\n",
      "File \u001B[0;32m~/anaconda3/envs/MatrixModels/lib/python3.11/site-packages/qiskit/algorithms/time_evolvers/variational/var_qte.py:228\u001B[0m, in \u001B[0;36mVarQTE._evolve\u001B[0;34m(self, init_state_param_dict, hamiltonian, time, t_param)\u001B[0m\n\u001B[1;32m    221\u001B[0m ode_function \u001B[38;5;241m=\u001B[39m \u001B[38;5;28mself\u001B[39m\u001B[38;5;241m.\u001B[39m_ode_function_factory\u001B[38;5;241m.\u001B[39m_build(\n\u001B[1;32m    222\u001B[0m     linear_solver, init_state_param_dict, t_param\n\u001B[1;32m    223\u001B[0m )\n\u001B[1;32m    225\u001B[0m ode_solver \u001B[38;5;241m=\u001B[39m VarQTEOdeSolver(\n\u001B[1;32m    226\u001B[0m     init_state_parameter_values, ode_function, \u001B[38;5;28mself\u001B[39m\u001B[38;5;241m.\u001B[39mode_solver, \u001B[38;5;28mself\u001B[39m\u001B[38;5;241m.\u001B[39mnum_timesteps\n\u001B[1;32m    227\u001B[0m )\n\u001B[0;32m--> 228\u001B[0m final_param_values, param_values, time_points \u001B[38;5;241m=\u001B[39m ode_solver\u001B[38;5;241m.\u001B[39mrun(time)\n\u001B[1;32m    229\u001B[0m param_dict_from_ode \u001B[38;5;241m=\u001B[39m \u001B[38;5;28mdict\u001B[39m(\u001B[38;5;28mzip\u001B[39m(init_state_parameters, final_param_values))\n\u001B[1;32m    231\u001B[0m \u001B[38;5;28;01mreturn\u001B[39;00m \u001B[38;5;28mself\u001B[39m\u001B[38;5;241m.\u001B[39mansatz\u001B[38;5;241m.\u001B[39massign_parameters(param_dict_from_ode), param_values, time_points\n",
      "File \u001B[0;32m~/anaconda3/envs/MatrixModels/lib/python3.11/site-packages/qiskit/algorithms/time_evolvers/variational/solvers/ode/var_qte_ode_solver.py:78\u001B[0m, in \u001B[0;36mVarQTEOdeSolver.run\u001B[0;34m(self, evolution_time)\u001B[0m\n\u001B[1;32m     75\u001B[0m \u001B[38;5;28;01melse\u001B[39;00m:\n\u001B[1;32m     76\u001B[0m     solve \u001B[38;5;241m=\u001B[39m solve_ivp\n\u001B[0;32m---> 78\u001B[0m sol \u001B[38;5;241m=\u001B[39m solve(\n\u001B[1;32m     79\u001B[0m     \u001B[38;5;28mself\u001B[39m\u001B[38;5;241m.\u001B[39m_ode_function,\n\u001B[1;32m     80\u001B[0m     (\u001B[38;5;241m0\u001B[39m, evolution_time),\n\u001B[1;32m     81\u001B[0m     \u001B[38;5;28mself\u001B[39m\u001B[38;5;241m.\u001B[39m_init_params,\n\u001B[1;32m     82\u001B[0m     method\u001B[38;5;241m=\u001B[39m\u001B[38;5;28mself\u001B[39m\u001B[38;5;241m.\u001B[39m_ode_solver,\n\u001B[1;32m     83\u001B[0m )\n\u001B[1;32m     85\u001B[0m param_vals \u001B[38;5;241m=\u001B[39m sol\u001B[38;5;241m.\u001B[39my\u001B[38;5;241m.\u001B[39mT\n\u001B[1;32m     86\u001B[0m time_points \u001B[38;5;241m=\u001B[39m sol\u001B[38;5;241m.\u001B[39mt\n",
      "File \u001B[0;32m~/anaconda3/envs/MatrixModels/lib/python3.11/site-packages/scipy/integrate/_ivp/ivp.py:602\u001B[0m, in \u001B[0;36msolve_ivp\u001B[0;34m(fun, t_span, y0, method, t_eval, dense_output, events, vectorized, args, **options)\u001B[0m\n\u001B[1;32m    600\u001B[0m status \u001B[38;5;241m=\u001B[39m \u001B[38;5;28;01mNone\u001B[39;00m\n\u001B[1;32m    601\u001B[0m \u001B[38;5;28;01mwhile\u001B[39;00m status \u001B[38;5;129;01mis\u001B[39;00m \u001B[38;5;28;01mNone\u001B[39;00m:\n\u001B[0;32m--> 602\u001B[0m     message \u001B[38;5;241m=\u001B[39m solver\u001B[38;5;241m.\u001B[39mstep()\n\u001B[1;32m    604\u001B[0m     \u001B[38;5;28;01mif\u001B[39;00m solver\u001B[38;5;241m.\u001B[39mstatus \u001B[38;5;241m==\u001B[39m \u001B[38;5;124m'\u001B[39m\u001B[38;5;124mfinished\u001B[39m\u001B[38;5;124m'\u001B[39m:\n\u001B[1;32m    605\u001B[0m         status \u001B[38;5;241m=\u001B[39m \u001B[38;5;241m0\u001B[39m\n",
      "File \u001B[0;32m~/anaconda3/envs/MatrixModels/lib/python3.11/site-packages/scipy/integrate/_ivp/base.py:197\u001B[0m, in \u001B[0;36mOdeSolver.step\u001B[0;34m(self)\u001B[0m\n\u001B[1;32m    195\u001B[0m \u001B[38;5;28;01melse\u001B[39;00m:\n\u001B[1;32m    196\u001B[0m     t \u001B[38;5;241m=\u001B[39m \u001B[38;5;28mself\u001B[39m\u001B[38;5;241m.\u001B[39mt\n\u001B[0;32m--> 197\u001B[0m     success, message \u001B[38;5;241m=\u001B[39m \u001B[38;5;28mself\u001B[39m\u001B[38;5;241m.\u001B[39m_step_impl()\n\u001B[1;32m    199\u001B[0m     \u001B[38;5;28;01mif\u001B[39;00m \u001B[38;5;129;01mnot\u001B[39;00m success:\n\u001B[1;32m    200\u001B[0m         \u001B[38;5;28mself\u001B[39m\u001B[38;5;241m.\u001B[39mstatus \u001B[38;5;241m=\u001B[39m \u001B[38;5;124m'\u001B[39m\u001B[38;5;124mfailed\u001B[39m\u001B[38;5;124m'\u001B[39m\n",
      "File \u001B[0;32m~/anaconda3/envs/MatrixModels/lib/python3.11/site-packages/qiskit/algorithms/time_evolvers/variational/solvers/ode/forward_euler_solver.py:65\u001B[0m, in \u001B[0;36mForwardEulerSolver._step_impl\u001B[0;34m(self)\u001B[0m\n\u001B[1;32m     63\u001B[0m \u001B[38;5;28;01mtry\u001B[39;00m:\n\u001B[1;32m     64\u001B[0m     \u001B[38;5;28mself\u001B[39m\u001B[38;5;241m.\u001B[39m_y_old \u001B[38;5;241m=\u001B[39m \u001B[38;5;28mself\u001B[39m\u001B[38;5;241m.\u001B[39my\n\u001B[0;32m---> 65\u001B[0m     \u001B[38;5;28mself\u001B[39m\u001B[38;5;241m.\u001B[39my \u001B[38;5;241m=\u001B[39m \u001B[38;5;28mlist\u001B[39m(np\u001B[38;5;241m.\u001B[39madd(\u001B[38;5;28mself\u001B[39m\u001B[38;5;241m.\u001B[39my, \u001B[38;5;28mself\u001B[39m\u001B[38;5;241m.\u001B[39m_step_length \u001B[38;5;241m*\u001B[39m \u001B[38;5;28mself\u001B[39m\u001B[38;5;241m.\u001B[39mfun(\u001B[38;5;28mself\u001B[39m\u001B[38;5;241m.\u001B[39mt, \u001B[38;5;28mself\u001B[39m\u001B[38;5;241m.\u001B[39my)))\n\u001B[1;32m     66\u001B[0m     \u001B[38;5;28mself\u001B[39m\u001B[38;5;241m.\u001B[39mt \u001B[38;5;241m+\u001B[39m\u001B[38;5;241m=\u001B[39m \u001B[38;5;28mself\u001B[39m\u001B[38;5;241m.\u001B[39m_step_length\n\u001B[1;32m     67\u001B[0m     \u001B[38;5;28;01mreturn\u001B[39;00m \u001B[38;5;28;01mTrue\u001B[39;00m, \u001B[38;5;28;01mNone\u001B[39;00m\n",
      "File \u001B[0;32m~/anaconda3/envs/MatrixModels/lib/python3.11/site-packages/scipy/integrate/_ivp/base.py:154\u001B[0m, in \u001B[0;36mOdeSolver.__init__.<locals>.fun\u001B[0;34m(t, y)\u001B[0m\n\u001B[1;32m    152\u001B[0m \u001B[38;5;28;01mdef\u001B[39;00m \u001B[38;5;21mfun\u001B[39m(t, y):\n\u001B[1;32m    153\u001B[0m     \u001B[38;5;28mself\u001B[39m\u001B[38;5;241m.\u001B[39mnfev \u001B[38;5;241m+\u001B[39m\u001B[38;5;241m=\u001B[39m \u001B[38;5;241m1\u001B[39m\n\u001B[0;32m--> 154\u001B[0m     \u001B[38;5;28;01mreturn\u001B[39;00m \u001B[38;5;28mself\u001B[39m\u001B[38;5;241m.\u001B[39mfun_single(t, y)\n",
      "File \u001B[0;32m~/anaconda3/envs/MatrixModels/lib/python3.11/site-packages/scipy/integrate/_ivp/base.py:23\u001B[0m, in \u001B[0;36mcheck_arguments.<locals>.fun_wrapped\u001B[0;34m(t, y)\u001B[0m\n\u001B[1;32m     22\u001B[0m \u001B[38;5;28;01mdef\u001B[39;00m \u001B[38;5;21mfun_wrapped\u001B[39m(t, y):\n\u001B[0;32m---> 23\u001B[0m     \u001B[38;5;28;01mreturn\u001B[39;00m np\u001B[38;5;241m.\u001B[39masarray(fun(t, y), dtype\u001B[38;5;241m=\u001B[39mdtype)\n",
      "File \u001B[0;32m~/anaconda3/envs/MatrixModels/lib/python3.11/site-packages/qiskit/algorithms/time_evolvers/variational/solvers/ode/ode_function.py:36\u001B[0m, in \u001B[0;36mOdeFunction.var_qte_ode_function\u001B[0;34m(self, time, parameter_values)\u001B[0m\n\u001B[1;32m     23\u001B[0m \u001B[38;5;250m\u001B[39m\u001B[38;5;124;03m\"\"\"\u001B[39;00m\n\u001B[1;32m     24\u001B[0m \u001B[38;5;124;03mEvaluates an ODE function for a given time and parameter values. It is used by an ODE\u001B[39;00m\n\u001B[1;32m     25\u001B[0m \u001B[38;5;124;03msolver.\u001B[39;00m\n\u001B[0;32m   (...)\u001B[0m\n\u001B[1;32m     32\u001B[0m \u001B[38;5;124;03m    ODE gradient arising from solving a system of linear equations.\u001B[39;00m\n\u001B[1;32m     33\u001B[0m \u001B[38;5;124;03m\"\"\"\u001B[39;00m\n\u001B[1;32m     34\u001B[0m current_param_dict \u001B[38;5;241m=\u001B[39m \u001B[38;5;28mdict\u001B[39m(\u001B[38;5;28mzip\u001B[39m(\u001B[38;5;28mself\u001B[39m\u001B[38;5;241m.\u001B[39m_param_dict\u001B[38;5;241m.\u001B[39mkeys(), parameter_values))\n\u001B[0;32m---> 36\u001B[0m ode_grad_res, _, _ \u001B[38;5;241m=\u001B[39m \u001B[38;5;28mself\u001B[39m\u001B[38;5;241m.\u001B[39m_varqte_linear_solver\u001B[38;5;241m.\u001B[39msolve_lse(\n\u001B[1;32m     37\u001B[0m     current_param_dict,\n\u001B[1;32m     38\u001B[0m     time,\n\u001B[1;32m     39\u001B[0m )\n\u001B[1;32m     41\u001B[0m \u001B[38;5;28;01mreturn\u001B[39;00m ode_grad_res\n",
      "File \u001B[0;32m~/anaconda3/envs/MatrixModels/lib/python3.11/site-packages/qiskit/algorithms/time_evolvers/variational/solvers/var_qte_linear_solver.py:123\u001B[0m, in \u001B[0;36mVarQTELinearSolver.solve_lse\u001B[0;34m(self, param_dict, time_value)\u001B[0m\n\u001B[1;32m    116\u001B[0m     \u001B[38;5;28;01melse\u001B[39;00m:\n\u001B[1;32m    117\u001B[0m         \u001B[38;5;28;01mraise\u001B[39;00m \u001B[38;5;167;01mValueError\u001B[39;00m(\n\u001B[1;32m    118\u001B[0m             \u001B[38;5;124m\"\u001B[39m\u001B[38;5;124mProviding a time_value is required for time-dependent hamiltonians, \u001B[39m\u001B[38;5;124m\"\u001B[39m\n\u001B[1;32m    119\u001B[0m             \u001B[38;5;124mf\u001B[39m\u001B[38;5;124m\"\u001B[39m\u001B[38;5;124mbut got time_value = \u001B[39m\u001B[38;5;132;01m{\u001B[39;00mtime_value\u001B[38;5;132;01m}\u001B[39;00m\u001B[38;5;124m. \u001B[39m\u001B[38;5;124m\"\u001B[39m\n\u001B[1;32m    120\u001B[0m             \u001B[38;5;124m\"\u001B[39m\u001B[38;5;124mPlease provide a time_value to the solve_lse method.\u001B[39m\u001B[38;5;124m\"\u001B[39m\n\u001B[1;32m    121\u001B[0m         )\n\u001B[0;32m--> 123\u001B[0m evolution_grad_lse_rhs \u001B[38;5;241m=\u001B[39m \u001B[38;5;28mself\u001B[39m\u001B[38;5;241m.\u001B[39m_var_principle\u001B[38;5;241m.\u001B[39mevolution_gradient(\n\u001B[1;32m    124\u001B[0m     hamiltonian, \u001B[38;5;28mself\u001B[39m\u001B[38;5;241m.\u001B[39m_ansatz, param_values, \u001B[38;5;28mself\u001B[39m\u001B[38;5;241m.\u001B[39m_gradient_params\n\u001B[1;32m    125\u001B[0m )\n\u001B[1;32m    127\u001B[0m x \u001B[38;5;241m=\u001B[39m \u001B[38;5;28mself\u001B[39m\u001B[38;5;241m.\u001B[39m_lse_solver(metric_tensor_lse_lhs, evolution_grad_lse_rhs)\n\u001B[1;32m    129\u001B[0m \u001B[38;5;28;01mreturn\u001B[39;00m np\u001B[38;5;241m.\u001B[39mreal(x), metric_tensor_lse_lhs, evolution_grad_lse_rhs\n",
      "File \u001B[0;32m~/anaconda3/envs/MatrixModels/lib/python3.11/site-packages/qiskit/algorithms/time_evolvers/variational/variational_principles/imaginary_mc_lachlan_principle.py:107\u001B[0m, in \u001B[0;36mImaginaryMcLachlanPrinciple.evolution_gradient\u001B[0;34m(self, hamiltonian, ansatz, param_values, gradient_params)\u001B[0m\n\u001B[1;32m     87\u001B[0m \u001B[38;5;250m\u001B[39m\u001B[38;5;124;03m\"\"\"\u001B[39;00m\n\u001B[1;32m     88\u001B[0m \u001B[38;5;124;03mCalculates an evolution gradient according to the rules of this variational principle.\u001B[39;00m\n\u001B[1;32m     89\u001B[0m \n\u001B[0;32m   (...)\u001B[0m\n\u001B[1;32m    101\u001B[0m \u001B[38;5;124;03m    AlgorithmError: If a gradient job fails.\u001B[39;00m\n\u001B[1;32m    102\u001B[0m \u001B[38;5;124;03m\"\"\"\u001B[39;00m\n\u001B[1;32m    104\u001B[0m \u001B[38;5;28;01mtry\u001B[39;00m:\n\u001B[1;32m    105\u001B[0m     evolution_grad_lse_rhs \u001B[38;5;241m=\u001B[39m (\n\u001B[1;32m    106\u001B[0m         \u001B[38;5;28mself\u001B[39m\u001B[38;5;241m.\u001B[39mgradient\u001B[38;5;241m.\u001B[39mrun([ansatz], [hamiltonian], [param_values], [gradient_params])\n\u001B[0;32m--> 107\u001B[0m         \u001B[38;5;241m.\u001B[39mresult()\n\u001B[1;32m    108\u001B[0m         \u001B[38;5;241m.\u001B[39mgradients[\u001B[38;5;241m0\u001B[39m]\n\u001B[1;32m    109\u001B[0m     )\n\u001B[1;32m    111\u001B[0m \u001B[38;5;28;01mexcept\u001B[39;00m \u001B[38;5;167;01mException\u001B[39;00m \u001B[38;5;28;01mas\u001B[39;00m exc:\n\u001B[1;32m    112\u001B[0m     \u001B[38;5;28;01mraise\u001B[39;00m AlgorithmError(\u001B[38;5;124m\"\u001B[39m\u001B[38;5;124mThe gradient primitive job failed!\u001B[39m\u001B[38;5;124m\"\u001B[39m) \u001B[38;5;28;01mfrom\u001B[39;00m \u001B[38;5;21;01mexc\u001B[39;00m\n",
      "File \u001B[0;32m~/anaconda3/envs/MatrixModels/lib/python3.11/site-packages/qiskit/primitives/primitive_job.py:55\u001B[0m, in \u001B[0;36mPrimitiveJob.result\u001B[0;34m(self)\u001B[0m\n\u001B[1;32m     53\u001B[0m \u001B[38;5;250m\u001B[39m\u001B[38;5;124;03m\"\"\"Return the results of the job.\"\"\"\u001B[39;00m\n\u001B[1;32m     54\u001B[0m \u001B[38;5;28mself\u001B[39m\u001B[38;5;241m.\u001B[39m_check_submitted()\n\u001B[0;32m---> 55\u001B[0m \u001B[38;5;28;01mreturn\u001B[39;00m \u001B[38;5;28mself\u001B[39m\u001B[38;5;241m.\u001B[39m_future\u001B[38;5;241m.\u001B[39mresult()\n",
      "File \u001B[0;32m~/anaconda3/envs/MatrixModels/lib/python3.11/concurrent/futures/_base.py:451\u001B[0m, in \u001B[0;36mFuture.result\u001B[0;34m(self, timeout)\u001B[0m\n\u001B[1;32m    448\u001B[0m \u001B[38;5;28;01melif\u001B[39;00m \u001B[38;5;28mself\u001B[39m\u001B[38;5;241m.\u001B[39m_state \u001B[38;5;241m==\u001B[39m FINISHED:\n\u001B[1;32m    449\u001B[0m     \u001B[38;5;28;01mreturn\u001B[39;00m \u001B[38;5;28mself\u001B[39m\u001B[38;5;241m.\u001B[39m__get_result()\n\u001B[0;32m--> 451\u001B[0m \u001B[38;5;28mself\u001B[39m\u001B[38;5;241m.\u001B[39m_condition\u001B[38;5;241m.\u001B[39mwait(timeout)\n\u001B[1;32m    453\u001B[0m \u001B[38;5;28;01mif\u001B[39;00m \u001B[38;5;28mself\u001B[39m\u001B[38;5;241m.\u001B[39m_state \u001B[38;5;129;01min\u001B[39;00m [CANCELLED, CANCELLED_AND_NOTIFIED]:\n\u001B[1;32m    454\u001B[0m     \u001B[38;5;28;01mraise\u001B[39;00m CancelledError()\n",
      "File \u001B[0;32m~/anaconda3/envs/MatrixModels/lib/python3.11/threading.py:320\u001B[0m, in \u001B[0;36mCondition.wait\u001B[0;34m(self, timeout)\u001B[0m\n\u001B[1;32m    318\u001B[0m \u001B[38;5;28;01mtry\u001B[39;00m:    \u001B[38;5;66;03m# restore state no matter what (e.g., KeyboardInterrupt)\u001B[39;00m\n\u001B[1;32m    319\u001B[0m     \u001B[38;5;28;01mif\u001B[39;00m timeout \u001B[38;5;129;01mis\u001B[39;00m \u001B[38;5;28;01mNone\u001B[39;00m:\n\u001B[0;32m--> 320\u001B[0m         waiter\u001B[38;5;241m.\u001B[39macquire()\n\u001B[1;32m    321\u001B[0m         gotit \u001B[38;5;241m=\u001B[39m \u001B[38;5;28;01mTrue\u001B[39;00m\n\u001B[1;32m    322\u001B[0m     \u001B[38;5;28;01melse\u001B[39;00m:\n",
      "\u001B[0;31mKeyboardInterrupt\u001B[0m: "
     ]
    }
   ],
   "source": [
    "depth = 4\n",
    "qubits = 3\n",
    "hamiltonian = Operator(np.kron(hm.Ham(qubits,1,2),hm.krId(qubits)))\n",
    "var_principle = ImaginaryMcLachlanPrinciple()\n",
    "time = 0.4\n",
    "aux_ops = [hamiltonian]\n",
    "init_param_values =  [np.pi/2]*qubits + [0]*(depth*qubits*2+qubits)\n",
    "ansatz = an.ansatz_review_exact(qubits*2,depth)\n",
    "evolution_problem = TimeEvolutionProblem(hamiltonian, time, aux_operators=aux_ops)\n",
    "var_qite = VarQITE(ansatz, init_param_values, var_principle, Estimator())\n",
    "evolution_result = var_qite.evolve(evolution_problem)\n",
    "\n"
   ]
  },
  {
   "cell_type": "code",
   "execution_count": null,
   "id": "009b137a",
   "metadata": {
    "ExecuteTime": {
     "end_time": "2023-11-07T20:05:07.128698Z",
     "start_time": "2023-11-07T20:05:07.123266Z"
    }
   },
   "outputs": [],
   "source": [
    "init_state = Statevector(ansatz.assign_parameters(init_param_values))\n",
    "evolution_problem = TimeEvolutionProblem(hamiltonian, time, initial_state=init_state, aux_operators=aux_ops)\n",
    "exact_evol = SciPyImaginaryEvolver(num_timesteps=int(time * 100))\n",
    "sol = exact_evol.evolve(evolution_problem)"
   ]
  },
  {
   "cell_type": "code",
   "execution_count": 83,
   "outputs": [
    {
     "data": {
      "text/plain": "<Figure size 640x480 with 1 Axes>",
      "image/png": "[encoded data removed]"
     },
     "metadata": {},
     "output_type": "display_data"
    }
   ],
   "source": [
    "h_exp_val = np.array([ele[0][0] for ele in evolution_result.observables])\n",
    "\n",
    "exact_h_exp_val = sol.observables[0][0].real\n",
    "\n",
    "times = evolution_result.times\n",
    "pylab.plot(times, h_exp_val, label= \"VarQITE\")\n",
    "pylab.plot(times, exact_h_exp_val , label= \"Exact\",  linestyle='--')\n",
    "plt.axhline(y=0.125, color='r', linestyle='-')\n",
    "pylab.xlabel(\"Time\")\n",
    "pylab.ylabel(r\"$\\langle H \\rangle$ (energy)\")\n",
    "pylab.legend(loc=\"upper right\");"
   ],
   "metadata": {
    "collapsed": false,
    "ExecuteTime": {
     "end_time": "2023-11-07T20:05:17.149465Z",
     "start_time": "2023-11-07T20:05:16.995305Z"
    }
   },
   "id": "48080e87"
  },
  {
   "cell_type": "code",
   "execution_count": 117,
   "id": "2de51f5b",
   "metadata": {
    "ExecuteTime": {
     "end_time": "2023-11-07T20:33:05.840756Z",
     "start_time": "2023-11-07T20:33:05.784126Z"
    }
   },
   "outputs": [
    {
     "ename": "CircuitError",
     "evalue": "'register size error'",
     "output_type": "error",
     "traceback": [
      "\u001B[0;31m---------------------------------------------------------------------------\u001B[0m",
      "\u001B[0;31mCircuitError\u001B[0m                              Traceback (most recent call last)",
      "Cell \u001B[0;32mIn[117], line 3\u001B[0m\n\u001B[1;32m      1\u001B[0m param \u001B[38;5;241m=\u001B[39m evolution_result\u001B[38;5;241m.\u001B[39mparameter_values[\u001B[38;5;28mint\u001B[39m(time\u001B[38;5;241m*\u001B[39m\u001B[38;5;241m100\u001B[39m)][:]\n\u001B[1;32m      2\u001B[0m evolved_state \u001B[38;5;241m=\u001B[39m evolution_result\u001B[38;5;241m.\u001B[39mevolved_state\n\u001B[0;32m----> 3\u001B[0m circuit_mes \u001B[38;5;241m=\u001B[39m an\u001B[38;5;241m.\u001B[39mansatz_review_exact(qubits\u001B[38;5;241m*\u001B[39m\u001B[38;5;241m2\u001B[39m,depth)\u001B[38;5;241m.\u001B[39mbind_parameters(param) \u001B[38;5;241m+\u001B[39mmeasure(\u001B[38;5;241m6\u001B[39m)\n",
      "Cell \u001B[0;32mIn[116], line 3\u001B[0m, in \u001B[0;36mmeasure\u001B[0;34m(N)\u001B[0m\n\u001B[1;32m      1\u001B[0m \u001B[38;5;28;01mdef\u001B[39;00m \u001B[38;5;21mmeasure\u001B[39m(N):\n\u001B[1;32m      2\u001B[0m     circuit \u001B[38;5;241m=\u001B[39m QuantumCircuit(N, N)\n\u001B[0;32m----> 3\u001B[0m     circuit\u001B[38;5;241m.\u001B[39mmeasure(np\u001B[38;5;241m.\u001B[39marange(\u001B[38;5;28mint\u001B[39m(N \u001B[38;5;241m/\u001B[39m \u001B[38;5;241m2\u001B[39m)), \u001B[38;5;28mint\u001B[39m(N \u001B[38;5;241m/\u001B[39m \u001B[38;5;241m2\u001B[39m))\n\u001B[1;32m      4\u001B[0m     \u001B[38;5;28;01mreturn\u001B[39;00m circuit\n",
      "File \u001B[0;32m~/anaconda3/envs/MatrixModels/lib/python3.11/site-packages/qiskit/circuit/quantumcircuit.py:2359\u001B[0m, in \u001B[0;36mQuantumCircuit.measure\u001B[0;34m(self, qubit, cbit)\u001B[0m\n\u001B[1;32m   2286\u001B[0m \u001B[38;5;28;01mdef\u001B[39;00m \u001B[38;5;21mmeasure\u001B[39m(\u001B[38;5;28mself\u001B[39m, qubit: QubitSpecifier, cbit: ClbitSpecifier) \u001B[38;5;241m-\u001B[39m\u001B[38;5;241m>\u001B[39m InstructionSet:\n\u001B[1;32m   2287\u001B[0m \u001B[38;5;250m    \u001B[39m\u001B[38;5;124mr\u001B[39m\u001B[38;5;124;03m\"\"\"Measure a quantum bit (``qubit``) in the Z basis into a classical bit (``cbit``).\u001B[39;00m\n\u001B[1;32m   2288\u001B[0m \n\u001B[1;32m   2289\u001B[0m \u001B[38;5;124;03m    When a quantum state is measured, a qubit is projected in the computational (Pauli Z) basis\u001B[39;00m\n\u001B[0;32m   (...)\u001B[0m\n\u001B[1;32m   2357\u001B[0m \n\u001B[1;32m   2358\u001B[0m \u001B[38;5;124;03m    \"\"\"\u001B[39;00m\n\u001B[0;32m-> 2359\u001B[0m     \u001B[38;5;28;01mreturn\u001B[39;00m \u001B[38;5;28mself\u001B[39m\u001B[38;5;241m.\u001B[39mappend(Measure(), [qubit], [cbit])\n",
      "File \u001B[0;32m~/anaconda3/envs/MatrixModels/lib/python3.11/site-packages/qiskit/circuit/quantumcircuit.py:1289\u001B[0m, in \u001B[0;36mQuantumCircuit.append\u001B[0;34m(self, instruction, qargs, cargs)\u001B[0m\n\u001B[1;32m   1287\u001B[0m instructions \u001B[38;5;241m=\u001B[39m InstructionSet(resource_requester\u001B[38;5;241m=\u001B[39mrequester)\n\u001B[1;32m   1288\u001B[0m \u001B[38;5;28;01mif\u001B[39;00m \u001B[38;5;28misinstance\u001B[39m(operation, Instruction):\n\u001B[0;32m-> 1289\u001B[0m     \u001B[38;5;28;01mfor\u001B[39;00m qarg, carg \u001B[38;5;129;01min\u001B[39;00m operation\u001B[38;5;241m.\u001B[39mbroadcast_arguments(expanded_qargs, expanded_cargs):\n\u001B[1;32m   1290\u001B[0m         \u001B[38;5;28mself\u001B[39m\u001B[38;5;241m.\u001B[39m_check_dups(qarg)\n\u001B[1;32m   1291\u001B[0m         instruction \u001B[38;5;241m=\u001B[39m CircuitInstruction(operation, qarg, carg)\n",
      "File \u001B[0;32m~/anaconda3/envs/MatrixModels/lib/python3.11/site-packages/qiskit/circuit/measure.py:39\u001B[0m, in \u001B[0;36mMeasure.broadcast_arguments\u001B[0;34m(self, qargs, cargs)\u001B[0m\n\u001B[1;32m     37\u001B[0m         \u001B[38;5;28;01myield\u001B[39;00m qarg, [each_carg]\n\u001B[1;32m     38\u001B[0m \u001B[38;5;28;01melse\u001B[39;00m:\n\u001B[0;32m---> 39\u001B[0m     \u001B[38;5;28;01mraise\u001B[39;00m CircuitError(\u001B[38;5;124m\"\u001B[39m\u001B[38;5;124mregister size error\u001B[39m\u001B[38;5;124m\"\u001B[39m)\n",
      "\u001B[0;31mCircuitError\u001B[0m: 'register size error'"
     ]
    }
   ],
   "source": [
    "param = evolution_result.parameter_values[int(time*100)][:]\n",
    "evolved_state = evolution_result.evolved_state\n",
    "circuit_mes = an.ansatz_review_exact(qubits*2,depth).bind_parameters(param) +measure(6)"
   ]
  },
  {
   "cell_type": "code",
   "execution_count": null,
   "id": "1ac84d3e",
   "metadata": {
    "ExecuteTime": {
     "end_time": "2023-11-07T20:05:07.174892Z",
     "start_time": "2023-11-07T20:05:07.132800Z"
    }
   },
   "outputs": [],
   "source": [
    "\n",
    "backend = Aer.get_backend('qasm_simulator')\n",
    "job = execute(circuit, backend, shots=10000)\n",
    "result = job.result()\n",
    "counts = result.get_counts(circuit)#\n",
    "plot_histogram(counts)"
   ]
  },
  {
   "cell_type": "code",
   "execution_count": null,
   "id": "dfae751d",
   "metadata": {
    "ExecuteTime": {
     "start_time": "2023-11-07T20:05:07.136612Z"
    }
   },
   "outputs": [],
   "source": [
    "print(1/((np.trace(np.exp(-4*Ham(2,1,2)))))*np.trace(np.exp(-4*hm.Ham(2,1,2))*hm.Ham(2,1,2)))"
   ]
  },
  {
   "cell_type": "code",
   "execution_count": null,
   "id": "6747ba3e",
   "metadata": {
    "ExecuteTime": {
     "start_time": "2023-11-07T20:05:07.138132Z"
    }
   },
   "outputs": [],
   "source": [
    "2*(1/4*np.exp(0)+9/4*np.exp(-2*(8/4)))"
   ]
  },
  {
   "cell_type": "code",
   "execution_count": null,
   "id": "50a501fb",
   "metadata": {
    "ExecuteTime": {
     "start_time": "2023-11-07T20:05:07.140577Z"
    }
   },
   "outputs": [],
   "source": [
    "\n",
    "dict_1 = evolved_state.probabilities_dict(np.arange(qubits))\n",
    "x=[\"1001\",\"1101\",\"1011\",\"1111\",\"1000\",\"1100\",\"1010\",\"1110\",\"0000\",\"0100\",\"0010\",\"0010\",\"0110\",\"0001\",\"0101\",\"0011\",\"0111\"]\n",
    "y=[]\n",
    "for i in range(len(x)):\n",
    "    y.append(dict_1[x[i]])\n",
    "\n",
    "plt.bar(x, y, width=0.9)\n"
   ]
  },
  {
   "cell_type": "code",
   "execution_count": null,
   "id": "390cf68d",
   "metadata": {
    "ExecuteTime": {
     "start_time": "2023-11-07T20:05:07.144402Z"
    }
   },
   "outputs": [],
   "source": [
    "param"
   ]
  },
  {
   "cell_type": "code",
   "execution_count": null,
   "id": "63fb5b6b",
   "metadata": {
    "ExecuteTime": {
     "start_time": "2023-11-07T20:05:07.146982Z"
    }
   },
   "outputs": [],
   "source": [
    "print(theta[:])\n",
    "print(evolved_state)"
   ]
  },
  {
   "cell_type": "code",
   "execution_count": 110,
   "outputs": [
    {
     "ename": "AttributeError",
     "evalue": "module 'Ansatz' has no attribute 'measu'",
     "output_type": "error",
     "traceback": [
      "\u001B[0;31m---------------------------------------------------------------------------\u001B[0m",
      "\u001B[0;31mAttributeError\u001B[0m                            Traceback (most recent call last)",
      "Cell \u001B[0;32mIn[110], line 1\u001B[0m\n\u001B[0;32m----> 1\u001B[0m an\u001B[38;5;241m.\u001B[39mmeasu\n",
      "\u001B[0;31mAttributeError\u001B[0m: module 'Ansatz' has no attribute 'measu'"
     ]
    }
   ],
   "source": [
    "an.measu"
   ],
   "metadata": {
    "collapsed": false,
    "ExecuteTime": {
     "end_time": "2023-11-07T20:28:59.104623Z",
     "start_time": "2023-11-07T20:28:59.101519Z"
    }
   },
   "id": "d9500593992b6724"
  },
  {
   "cell_type": "code",
   "execution_count": 66,
   "outputs": [
    {
     "data": {
      "text/plain": "{1.5707963267948968: Parameter(θ_10),\n 0.5309270953391917: Parameter(θ_1),\n -1.4861224074169633e-17: Parameter(θ_11),\n 4.799283621669104e-17: Parameter(θ_12),\n 3.4848845074629545e-17: Parameter(θ_13),\n 3.8999906987173246e-18: Parameter(θ_14),\n -6.61166830041067e-17: Parameter(θ_15),\n -3.172809193332961e-17: Parameter(θ_16),\n 0.3114913476442559: Parameter(θ_17),\n 1.0813478640674783e-16: Parameter(θ_18),\n -4.271881811177055e-17: Parameter(θ_19),\n 1.9579519703804488e-17: Parameter(θ_2),\n 1.1340717253450123e-17: Parameter(θ_20),\n -4.869832121454888e-15: Parameter(θ_21),\n 1.1022295064758535e-16: Parameter(θ_22),\n -7.945383098786836e-17: Parameter(θ_23),\n 3.5260766971168125e-17: Parameter(θ_24),\n -1.6073276468859638e-17: Parameter(θ_25),\n 5.763173577215656e-18: Parameter(θ_26),\n 5.726887393391907e-18: Parameter(θ_27),\n -2.141933418332703e-17: Parameter(θ_28),\n 3.9350104817734077e-17: Parameter(θ_29),\n 2.060319536880976e-17: Parameter(θ_3),\n -3.931567434021853e-18: Parameter(θ_4),\n -4.9921457309087296e-15: Parameter(θ_5),\n -1.4153328838328865: Parameter(θ_6),\n 1.0378074188415252e-16: Parameter(θ_7),\n -3.1886802567733495e-18: Parameter(θ_8),\n -1.8036764588421893e-17: Parameter(θ_9)}"
     },
     "execution_count": 66,
     "metadata": {},
     "output_type": "execute_result"
    }
   ],
   "source": [
    "list"
   ],
   "metadata": {
    "collapsed": false,
    "ExecuteTime": {
     "end_time": "2023-11-07T19:45:23.900833Z",
     "start_time": "2023-11-07T19:45:23.872791Z"
    }
   },
   "id": "1f4fe96267eb8a0e"
  },
  {
   "cell_type": "code",
   "execution_count": 116,
   "outputs": [],
   "source": [
    "def measure(N):\n",
    "    circuit = QuantumCircuit(N, N)\n",
    "    circuit.measure(np.arange(int(N / 2)), int(N / 2))\n",
    "    return circuit"
   ],
   "metadata": {
    "collapsed": false,
    "ExecuteTime": {
     "end_time": "2023-11-07T20:32:59.937902Z",
     "start_time": "2023-11-07T20:32:59.924812Z"
    }
   },
   "id": "db9accf0568770a5"
  },
  {
   "cell_type": "code",
   "execution_count": 105,
   "outputs": [
    {
     "data": {
      "text/plain": "<qiskit.circuit.quantumcircuit.QuantumCircuit at 0x13b1faad0>"
     },
     "execution_count": 105,
     "metadata": {},
     "output_type": "execute_result"
    }
   ],
   "source": [
    "measure(4)"
   ],
   "metadata": {
    "collapsed": false,
    "ExecuteTime": {
     "end_time": "2023-11-07T20:27:50.804154Z",
     "start_time": "2023-11-07T20:27:50.796052Z"
    }
   },
   "id": "91064794340400e9"
  },
  {
   "cell_type": "code",
   "execution_count": null,
   "outputs": [],
   "source": [],
   "metadata": {
    "collapsed": false
   },
   "id": "772e30467eb60a6"
  }
 ],
 "metadata": {
  "kernelspec": {
   "display_name": "Python 3 (ipykernel)",
   "language": "python",
   "name": "python3"
  },
  "language_info": {
   "codemirror_mode": {
    "name": "ipython",
    "version": 3
   },
   "file_extension": ".py",
   "mimetype": "text/x-python",
   "name": "python",
   "nbconvert_exporter": "python",
   "pygments_lexer": "ipython3",
   "version": "3.11.5"
  }
 },
 "nbformat": 4,
 "nbformat_minor": 5
}
