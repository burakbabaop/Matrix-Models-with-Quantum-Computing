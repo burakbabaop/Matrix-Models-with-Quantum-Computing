{
 "cells": [
  {
   "cell_type": "code",
   "execution_count": 2,
   "id": "1fbf5e05",
   "metadata": {},
   "outputs": [],
   "source": [
    "import numpy as np\n",
    "from qiskit import *\n",
    "from qiskit.visualization import plot_histogram\n",
    "from qiskit.circuit.library import *\n",
    "from qiskit.algorithms.optimizers import GradientDescent\n",
    "from qiskit.quantum_info.operators import Operator\n",
    "from qiskit.primitives import Estimator\n",
    "from qiskit.circuit import Parameter\n",
    "from qiskit.quantum_info import DensityMatrix\n"
   ]
  },
  {
   "cell_type": "markdown",
   "id": "4b110742",
   "metadata": {},
   "source": [
    "## Hamiltonian"
   ]
  },
  {
   "cell_type": "code",
   "execution_count": 3,
   "id": "83fd72de",
   "metadata": {},
   "outputs": [],
   "source": [
    "def Hamiltonian(N, a):\n",
    "    def krZ(m, N):\n",
    "        matrix = np.array(1)\n",
    "        for j in range(N):\n",
    "            if m == j:\n",
    "                matrix = np.kron(matrix, ZGate())     \n",
    "            else:\n",
    "                matrix = np.kron(matrix, IGate())\n",
    "        return matrix  \n",
    "\n",
    "    def krId(N):\n",
    "        matrix = np.array(1)\n",
    "        for j in range(N):\n",
    "            matrix = np.kron(matrix, IGate())\n",
    "        return matrix  \n",
    "\n",
    "    def doublesum(N):\n",
    "        sum = 0\n",
    "        for i in range(N):\n",
    "            for j in range(N):\n",
    "                sum += 2**(i+j) * np.matmul(((krId(N)-krZ(i,N))/2.0),((krId(N)-krZ(j,N))/2.0))\n",
    "        return sum\n",
    "\n",
    "    def sum(N):\n",
    "        sum = 0\n",
    "        for i in range(N):\n",
    "            sum += 2**(i) * ((krId(N)-krZ(i, N))/2.0)\n",
    "\n",
    "        return sum\n",
    "        \n",
    "    return a**2 *(0.25*krId(N)+sum(N)+ doublesum(N))"
   ]
  },
  {
   "cell_type": "markdown",
   "id": "5f3e3e49",
   "metadata": {},
   "source": [
    "## Ansatz"
   ]
  },
  {
   "cell_type": "code",
   "execution_count": 4,
   "id": "e2b693fd",
   "metadata": {},
   "outputs": [],
   "source": [
    "def Ansatz(depth, N, param_num):\n",
    "    if param_num > N**2:\n",
    "        raise Exception('number of parameters are bigger then the rotation gates possible')\n",
    "        \n",
    "    circuit = QuantumCircuit(N)\n",
    "    thetas = []\n",
    "    for l in range(param_num):\n",
    "        thetas.append(Parameter('θ_'+str(l)))\n",
    "    \n",
    "    for i in range(depth):\n",
    "        circuit.barrier()\n",
    "        counter = 0\n",
    "        \n",
    "        for j in range(N):\n",
    "            if j+counter <len(thetas):\n",
    "                circuit.rx(thetas[j+counter],j)\n",
    "            if j+1+counter <len(thetas):\n",
    "                circuit.ry(thetas[j+1+counter],j)\n",
    "            if j+2+counter< len(thetas):\n",
    "                circuit.rz(thetas[j+2+counter],j)\n",
    "            else: \n",
    "                break\n",
    "            counter += 2\n",
    "            \n",
    "        for p in range(N):\n",
    "            if p+1 < len(range(N)):\n",
    "                circuit.cx(p,(p+1))\n",
    "            else:\n",
    "                break\n",
    "    return circuit"
   ]
  },
  {
   "cell_type": "markdown",
   "id": "be9638a8",
   "metadata": {},
   "source": [
    "## Cost Function"
   ]
  },
  {
   "cell_type": "code",
   "execution_count": 33,
   "id": "5631c3a9",
   "metadata": {},
   "outputs": [],
   "source": [
    "def costfn(param):\n",
    "    state = Ansatz(1, 4, 9)\n",
    "    binded = state.bind_parameters({state.parameters[i]:param[i] for i in range(len(param))})\n",
    "    op = Operator(Hamiltonian(4, 0.5))\n",
    "    estimator = Estimator()\n",
    "    expectation_value = estimator.run(binded, op).result().values[0]  \n",
    "    return expectation_value"
   ]
  },
  {
   "cell_type": "markdown",
   "id": "88cc5589",
   "metadata": {},
   "source": [
    "## Find optimized state"
   ]
  },
  {
   "cell_type": "code",
   "execution_count": 27,
   "id": "7f93c711",
   "metadata": {},
   "outputs": [],
   "source": [
    "opt = ADAM()\n",
    "\n",
    "def optimization(theta_start,cost_fun):\n",
    "    optimized = opt.minimize(fun=cost_fun, x0=theta_start)\n",
    "    state = Ansatz(1,4,9)\n",
    "    statevector = state.bind_parameters({state.parameters[i]:optimized.x[i] for i in range(len(optimized.x))})\n",
    "    density = DensityMatrix(statevector)\n",
    "    return optimized.x, statevector, density\n",
    "    \n",
    "    "
   ]
  },
  {
   "cell_type": "code",
   "execution_count": 1,
   "id": "48b3ef4c",
   "metadata": {},
   "outputs": [
    {
     "ename": "NameError",
     "evalue": "name 'optimization' is not defined",
     "output_type": "error",
     "traceback": [
      "\u001b[0;31m---------------------------------------------------------------------------\u001b[0m",
      "\u001b[0;31mNameError\u001b[0m                                 Traceback (most recent call last)",
      "Cell \u001b[0;32mIn[1], line 1\u001b[0m\n\u001b[0;32m----> 1\u001b[0m optstate \u001b[38;5;241m=\u001b[39m \u001b[43moptimization\u001b[49m(np\u001b[38;5;241m.\u001b[39mzeros(\u001b[38;5;241m9\u001b[39m), costfn)[\u001b[38;5;241m1\u001b[39m]\n",
      "\u001b[0;31mNameError\u001b[0m: name 'optimization' is not defined"
     ]
    }
   ],
   "source": [
    "optstate = optimization(np.zeros(9), costfn)[1]"
   ]
  },
  {
   "cell_type": "code",
   "execution_count": 34,
   "id": "aea3c3bd",
   "metadata": {},
   "outputs": [
    {
     "ename": "KeyboardInterrupt",
     "evalue": "",
     "output_type": "error",
     "traceback": [
      "\u001b[0;31m---------------------------------------------------------------------------\u001b[0m",
      "\u001b[0;31mKeyboardInterrupt\u001b[0m                         Traceback (most recent call last)",
      "Cell \u001b[0;32mIn[34], line 1\u001b[0m\n\u001b[0;32m----> 1\u001b[0m optimized2\u001b[38;5;241m=\u001b[39m\u001b[43moptimization\u001b[49m\u001b[43m(\u001b[49m\u001b[43mnp\u001b[49m\u001b[38;5;241;43m.\u001b[39;49m\u001b[43mzeros\u001b[49m\u001b[43m(\u001b[49m\u001b[38;5;241;43m9\u001b[39;49m\u001b[43m)\u001b[49m\u001b[43m,\u001b[49m\u001b[43m \u001b[49m\u001b[43mcostfn\u001b[49m\u001b[43m)\u001b[49m\n",
      "Cell \u001b[0;32mIn[27], line 4\u001b[0m, in \u001b[0;36moptimization\u001b[0;34m(theta_start, cost_fun)\u001b[0m\n\u001b[1;32m      3\u001b[0m \u001b[38;5;28;01mdef\u001b[39;00m \u001b[38;5;21moptimization\u001b[39m(theta_start,cost_fun):\n\u001b[0;32m----> 4\u001b[0m     optimized \u001b[38;5;241m=\u001b[39m \u001b[43mopt\u001b[49m\u001b[38;5;241;43m.\u001b[39;49m\u001b[43mminimize\u001b[49m\u001b[43m(\u001b[49m\u001b[43mfun\u001b[49m\u001b[38;5;241;43m=\u001b[39;49m\u001b[43mcost_fun\u001b[49m\u001b[43m,\u001b[49m\u001b[43m \u001b[49m\u001b[43mx0\u001b[49m\u001b[38;5;241;43m=\u001b[39;49m\u001b[43mtheta_start\u001b[49m\u001b[43m)\u001b[49m\n\u001b[1;32m      5\u001b[0m     state \u001b[38;5;241m=\u001b[39m Ansatz(\u001b[38;5;241m1\u001b[39m,\u001b[38;5;241m4\u001b[39m,\u001b[38;5;241m9\u001b[39m)\n\u001b[1;32m      6\u001b[0m     statevector \u001b[38;5;241m=\u001b[39m state\u001b[38;5;241m.\u001b[39mbind_parameters({state\u001b[38;5;241m.\u001b[39mparameters[i]:optimized\u001b[38;5;241m.\u001b[39mx[i] \u001b[38;5;28;01mfor\u001b[39;00m i \u001b[38;5;129;01min\u001b[39;00m \u001b[38;5;28mrange\u001b[39m(\u001b[38;5;28mlen\u001b[39m(optimized\u001b[38;5;241m.\u001b[39mx))})\n",
      "File \u001b[0;32m/Library/Frameworks/Python.framework/Versions/3.11/lib/python3.11/site-packages/qiskit/algorithms/optimizers/steppable_optimizer.py:279\u001b[0m, in \u001b[0;36mSteppableOptimizer.minimize\u001b[0;34m(self, fun, x0, jac, bounds)\u001b[0m\n\u001b[1;32m    277\u001b[0m \u001b[38;5;28mself\u001b[39m\u001b[38;5;241m.\u001b[39mstart(x0\u001b[38;5;241m=\u001b[39mx0, fun\u001b[38;5;241m=\u001b[39mfun, jac\u001b[38;5;241m=\u001b[39mjac, bounds\u001b[38;5;241m=\u001b[39mbounds)\n\u001b[1;32m    278\u001b[0m \u001b[38;5;28;01mwhile\u001b[39;00m \u001b[38;5;28mself\u001b[39m\u001b[38;5;241m.\u001b[39mcontinue_condition():\n\u001b[0;32m--> 279\u001b[0m     \u001b[38;5;28;43mself\u001b[39;49m\u001b[38;5;241;43m.\u001b[39;49m\u001b[43mstep\u001b[49m\u001b[43m(\u001b[49m\u001b[43m)\u001b[49m\n\u001b[1;32m    280\u001b[0m     \u001b[38;5;28mself\u001b[39m\u001b[38;5;241m.\u001b[39m_callback_wrapper()\n\u001b[1;32m    281\u001b[0m \u001b[38;5;28;01mreturn\u001b[39;00m \u001b[38;5;28mself\u001b[39m\u001b[38;5;241m.\u001b[39mcreate_result()\n",
      "File \u001b[0;32m/Library/Frameworks/Python.framework/Versions/3.11/lib/python3.11/site-packages/qiskit/algorithms/optimizers/steppable_optimizer.py:231\u001b[0m, in \u001b[0;36mSteppableOptimizer.step\u001b[0;34m(self)\u001b[0m\n\u001b[1;32m    225\u001b[0m \u001b[38;5;250m\u001b[39m\u001b[38;5;124;03m\"\"\"Performs one step in the optimization process.\u001b[39;00m\n\u001b[1;32m    226\u001b[0m \n\u001b[1;32m    227\u001b[0m \u001b[38;5;124;03mThis method composes :meth:`~.ask`, :meth:`~.evaluate`, and :meth:`~.tell` to make a \"step\"\u001b[39;00m\n\u001b[1;32m    228\u001b[0m \u001b[38;5;124;03min the optimization process.\u001b[39;00m\n\u001b[1;32m    229\u001b[0m \u001b[38;5;124;03m\"\"\"\u001b[39;00m\n\u001b[1;32m    230\u001b[0m ask_data \u001b[38;5;241m=\u001b[39m \u001b[38;5;28mself\u001b[39m\u001b[38;5;241m.\u001b[39mask()\n\u001b[0;32m--> 231\u001b[0m tell_data \u001b[38;5;241m=\u001b[39m \u001b[38;5;28;43mself\u001b[39;49m\u001b[38;5;241;43m.\u001b[39;49m\u001b[43mevaluate\u001b[49m\u001b[43m(\u001b[49m\u001b[43mask_data\u001b[49m\u001b[38;5;241;43m=\u001b[39;49m\u001b[43mask_data\u001b[49m\u001b[43m)\u001b[49m\n\u001b[1;32m    232\u001b[0m \u001b[38;5;28mself\u001b[39m\u001b[38;5;241m.\u001b[39mtell(ask_data\u001b[38;5;241m=\u001b[39mask_data, tell_data\u001b[38;5;241m=\u001b[39mtell_data)\n",
      "File \u001b[0;32m/Library/Frameworks/Python.framework/Versions/3.11/lib/python3.11/site-packages/qiskit/algorithms/optimizers/gradient_descent.py:331\u001b[0m, in \u001b[0;36mGradientDescent.evaluate\u001b[0;34m(self, ask_data)\u001b[0m\n\u001b[1;32m    329\u001b[0m \u001b[38;5;28;01mif\u001b[39;00m \u001b[38;5;28mself\u001b[39m\u001b[38;5;241m.\u001b[39mstate\u001b[38;5;241m.\u001b[39mjac \u001b[38;5;129;01mis\u001b[39;00m \u001b[38;5;28;01mNone\u001b[39;00m:\n\u001b[1;32m    330\u001b[0m     eps \u001b[38;5;241m=\u001b[39m \u001b[38;5;241m0.01\u001b[39m \u001b[38;5;28;01mif\u001b[39;00m (\u001b[38;5;28mself\u001b[39m\u001b[38;5;241m.\u001b[39mperturbation \u001b[38;5;129;01mis\u001b[39;00m \u001b[38;5;28;01mNone\u001b[39;00m) \u001b[38;5;28;01melse\u001b[39;00m \u001b[38;5;28mself\u001b[39m\u001b[38;5;241m.\u001b[39mperturbation\n\u001b[0;32m--> 331\u001b[0m     grad \u001b[38;5;241m=\u001b[39m \u001b[43mOptimizer\u001b[49m\u001b[38;5;241;43m.\u001b[39;49m\u001b[43mgradient_num_diff\u001b[49m\u001b[43m(\u001b[49m\n\u001b[1;32m    332\u001b[0m \u001b[43m        \u001b[49m\u001b[43mx_center\u001b[49m\u001b[38;5;241;43m=\u001b[39;49m\u001b[43mask_data\u001b[49m\u001b[38;5;241;43m.\u001b[39;49m\u001b[43mx_jac\u001b[49m\u001b[43m,\u001b[49m\n\u001b[1;32m    333\u001b[0m \u001b[43m        \u001b[49m\u001b[43mf\u001b[49m\u001b[38;5;241;43m=\u001b[39;49m\u001b[38;5;28;43mself\u001b[39;49m\u001b[38;5;241;43m.\u001b[39;49m\u001b[43mstate\u001b[49m\u001b[38;5;241;43m.\u001b[39;49m\u001b[43mfun\u001b[49m\u001b[43m,\u001b[49m\n\u001b[1;32m    334\u001b[0m \u001b[43m        \u001b[49m\u001b[43mepsilon\u001b[49m\u001b[38;5;241;43m=\u001b[39;49m\u001b[43meps\u001b[49m\u001b[43m,\u001b[49m\n\u001b[1;32m    335\u001b[0m \u001b[43m        \u001b[49m\u001b[43mmax_evals_grouped\u001b[49m\u001b[38;5;241;43m=\u001b[39;49m\u001b[38;5;28;43mself\u001b[39;49m\u001b[38;5;241;43m.\u001b[39;49m\u001b[43m_max_evals_grouped\u001b[49m\u001b[43m,\u001b[49m\n\u001b[1;32m    336\u001b[0m \u001b[43m    \u001b[49m\u001b[43m)\u001b[49m\n\u001b[1;32m    337\u001b[0m     \u001b[38;5;28mself\u001b[39m\u001b[38;5;241m.\u001b[39mstate\u001b[38;5;241m.\u001b[39mnfev \u001b[38;5;241m+\u001b[39m\u001b[38;5;241m=\u001b[39m \u001b[38;5;241m1\u001b[39m \u001b[38;5;241m+\u001b[39m \u001b[38;5;28mlen\u001b[39m(ask_data\u001b[38;5;241m.\u001b[39mx_jac)\n\u001b[1;32m    338\u001b[0m \u001b[38;5;28;01melse\u001b[39;00m:\n",
      "File \u001b[0;32m/Library/Frameworks/Python.framework/Versions/3.11/lib/python3.11/site-packages/qiskit/algorithms/optimizers/optimizer.py:253\u001b[0m, in \u001b[0;36mOptimizer.gradient_num_diff\u001b[0;34m(x_center, f, epsilon, max_evals_grouped)\u001b[0m\n\u001b[1;32m    251\u001b[0m \u001b[38;5;28;01mfor\u001b[39;00m chunk \u001b[38;5;129;01min\u001b[39;00m chunks:  \u001b[38;5;66;03m# eval the chunks in order\u001b[39;00m\n\u001b[1;32m    252\u001b[0m     parallel_parameters \u001b[38;5;241m=\u001b[39m np\u001b[38;5;241m.\u001b[39mconcatenate(chunk)\n\u001b[0;32m--> 253\u001b[0m     todos_results \u001b[38;5;241m=\u001b[39m \u001b[43mf\u001b[49m\u001b[43m(\u001b[49m\u001b[43mparallel_parameters\u001b[49m\u001b[43m)\u001b[49m  \u001b[38;5;66;03m# eval the points in a chunk (order preserved)\u001b[39;00m\n\u001b[1;32m    254\u001b[0m     \u001b[38;5;28;01mif\u001b[39;00m \u001b[38;5;28misinstance\u001b[39m(todos_results, \u001b[38;5;28mfloat\u001b[39m):\n\u001b[1;32m    255\u001b[0m         grad\u001b[38;5;241m.\u001b[39mappend((todos_results \u001b[38;5;241m-\u001b[39m forig) \u001b[38;5;241m/\u001b[39m epsilon)\n",
      "Cell \u001b[0;32mIn[33], line 6\u001b[0m, in \u001b[0;36mcostfn\u001b[0;34m(param)\u001b[0m\n\u001b[1;32m      4\u001b[0m op \u001b[38;5;241m=\u001b[39m Operator(Hamiltonian(\u001b[38;5;241m4\u001b[39m, \u001b[38;5;241m0.5\u001b[39m))\n\u001b[1;32m      5\u001b[0m estimator \u001b[38;5;241m=\u001b[39m Estimator()\n\u001b[0;32m----> 6\u001b[0m expectation_value \u001b[38;5;241m=\u001b[39m \u001b[43mestimator\u001b[49m\u001b[38;5;241;43m.\u001b[39;49m\u001b[43mrun\u001b[49m\u001b[43m(\u001b[49m\u001b[43mbinded\u001b[49m\u001b[43m,\u001b[49m\u001b[43m \u001b[49m\u001b[43mop\u001b[49m\u001b[43m)\u001b[49m\u001b[38;5;241m.\u001b[39mresult()\u001b[38;5;241m.\u001b[39mvalues[\u001b[38;5;241m0\u001b[39m]  \n\u001b[1;32m      7\u001b[0m \u001b[38;5;28;01mreturn\u001b[39;00m expectation_value\n",
      "File \u001b[0;32m/Library/Frameworks/Python.framework/Versions/3.11/lib/python3.11/site-packages/qiskit/primitives/base/base_estimator.py:171\u001b[0m, in \u001b[0;36mBaseEstimator.run\u001b[0;34m(self, circuits, observables, parameter_values, **run_options)\u001b[0m\n\u001b[1;32m    169\u001b[0m \u001b[38;5;66;03m# Singular validation\u001b[39;00m\n\u001b[1;32m    170\u001b[0m circuits \u001b[38;5;241m=\u001b[39m \u001b[38;5;28mself\u001b[39m\u001b[38;5;241m.\u001b[39m_validate_circuits(circuits)\n\u001b[0;32m--> 171\u001b[0m observables \u001b[38;5;241m=\u001b[39m \u001b[38;5;28;43mself\u001b[39;49m\u001b[38;5;241;43m.\u001b[39;49m\u001b[43m_validate_observables\u001b[49m\u001b[43m(\u001b[49m\u001b[43mobservables\u001b[49m\u001b[43m)\u001b[49m\n\u001b[1;32m    172\u001b[0m parameter_values \u001b[38;5;241m=\u001b[39m \u001b[38;5;28mself\u001b[39m\u001b[38;5;241m.\u001b[39m_validate_parameter_values(\n\u001b[1;32m    173\u001b[0m     parameter_values,\n\u001b[1;32m    174\u001b[0m     default\u001b[38;5;241m=\u001b[39m[()] \u001b[38;5;241m*\u001b[39m \u001b[38;5;28mlen\u001b[39m(circuits),\n\u001b[1;32m    175\u001b[0m )\n\u001b[1;32m    177\u001b[0m \u001b[38;5;66;03m# Cross-validation\u001b[39;00m\n",
      "File \u001b[0;32m/Library/Frameworks/Python.framework/Versions/3.11/lib/python3.11/site-packages/qiskit/primitives/base/base_estimator.py:210\u001b[0m, in \u001b[0;36mBaseEstimator._validate_observables\u001b[0;34m(observables)\u001b[0m\n\u001b[1;32m    208\u001b[0m \u001b[38;5;28;01mif\u001b[39;00m \u001b[38;5;28mlen\u001b[39m(observables) \u001b[38;5;241m==\u001b[39m \u001b[38;5;241m0\u001b[39m:\n\u001b[1;32m    209\u001b[0m     \u001b[38;5;28;01mraise\u001b[39;00m \u001b[38;5;167;01mValueError\u001b[39;00m(\u001b[38;5;124m\"\u001b[39m\u001b[38;5;124mNo observables were provided.\u001b[39m\u001b[38;5;124m\"\u001b[39m)\n\u001b[0;32m--> 210\u001b[0m \u001b[38;5;28;01mreturn\u001b[39;00m \u001b[38;5;28mtuple\u001b[39m(init_observable(obs) \u001b[38;5;28;01mfor\u001b[39;00m obs \u001b[38;5;129;01min\u001b[39;00m observables)\n",
      "File \u001b[0;32m/Library/Frameworks/Python.framework/Versions/3.11/lib/python3.11/site-packages/qiskit/primitives/base/base_estimator.py:210\u001b[0m, in \u001b[0;36m<genexpr>\u001b[0;34m(.0)\u001b[0m\n\u001b[1;32m    208\u001b[0m \u001b[38;5;28;01mif\u001b[39;00m \u001b[38;5;28mlen\u001b[39m(observables) \u001b[38;5;241m==\u001b[39m \u001b[38;5;241m0\u001b[39m:\n\u001b[1;32m    209\u001b[0m     \u001b[38;5;28;01mraise\u001b[39;00m \u001b[38;5;167;01mValueError\u001b[39;00m(\u001b[38;5;124m\"\u001b[39m\u001b[38;5;124mNo observables were provided.\u001b[39m\u001b[38;5;124m\"\u001b[39m)\n\u001b[0;32m--> 210\u001b[0m \u001b[38;5;28;01mreturn\u001b[39;00m \u001b[38;5;28mtuple\u001b[39m(\u001b[43minit_observable\u001b[49m\u001b[43m(\u001b[49m\u001b[43mobs\u001b[49m\u001b[43m)\u001b[49m \u001b[38;5;28;01mfor\u001b[39;00m obs \u001b[38;5;129;01min\u001b[39;00m observables)\n",
      "File \u001b[0;32m/Library/Frameworks/Python.framework/Versions/3.11/lib/python3.11/site-packages/qiskit/primitives/utils.py:70\u001b[0m, in \u001b[0;36minit_observable\u001b[0;34m(observable)\u001b[0m\n\u001b[1;32m     68\u001b[0m     \u001b[38;5;28;01mreturn\u001b[39;00m observable\u001b[38;5;241m.\u001b[39mcoeff \u001b[38;5;241m*\u001b[39m observable\u001b[38;5;241m.\u001b[39mprimitive\n\u001b[1;32m     69\u001b[0m \u001b[38;5;28;01melif\u001b[39;00m \u001b[38;5;28misinstance\u001b[39m(observable, BaseOperator) \u001b[38;5;129;01mand\u001b[39;00m \u001b[38;5;129;01mnot\u001b[39;00m \u001b[38;5;28misinstance\u001b[39m(observable, BasePauli):\n\u001b[0;32m---> 70\u001b[0m     \u001b[38;5;28;01mreturn\u001b[39;00m \u001b[43mSparsePauliOp\u001b[49m\u001b[38;5;241;43m.\u001b[39;49m\u001b[43mfrom_operator\u001b[49m\u001b[43m(\u001b[49m\u001b[43mobservable\u001b[49m\u001b[43m)\u001b[49m\n\u001b[1;32m     71\u001b[0m \u001b[38;5;28;01melse\u001b[39;00m:\n\u001b[1;32m     72\u001b[0m     \u001b[38;5;28;01mreturn\u001b[39;00m SparsePauliOp(observable)\n",
      "File \u001b[0;32m/Library/Frameworks/Python.framework/Versions/3.11/lib/python3.11/site-packages/qiskit/quantum_info/operators/symplectic/sparse_pauli_op.py:744\u001b[0m, in \u001b[0;36mSparsePauliOp.from_operator\u001b[0;34m(obj, atol, rtol)\u001b[0m\n\u001b[1;32m    742\u001b[0m \u001b[38;5;66;03m# Compute coefficients from basis\u001b[39;00m\n\u001b[1;32m    743\u001b[0m basis \u001b[38;5;241m=\u001b[39m pauli_basis(num_qubits)\n\u001b[0;32m--> 744\u001b[0m \u001b[38;5;28;01mfor\u001b[39;00m i, mat \u001b[38;5;129;01min\u001b[39;00m \u001b[38;5;28menumerate\u001b[39m(basis\u001b[38;5;241m.\u001b[39mmatrix_iter()):\n\u001b[1;32m    745\u001b[0m     coeff \u001b[38;5;241m=\u001b[39m np\u001b[38;5;241m.\u001b[39mtrace(mat\u001b[38;5;241m.\u001b[39mdot(data)) \u001b[38;5;241m/\u001b[39m denom\n\u001b[1;32m    746\u001b[0m     \u001b[38;5;28;01mif\u001b[39;00m \u001b[38;5;129;01mnot\u001b[39;00m np\u001b[38;5;241m.\u001b[39misclose(coeff, \u001b[38;5;241m0\u001b[39m, atol\u001b[38;5;241m=\u001b[39matol, rtol\u001b[38;5;241m=\u001b[39mrtol):\n",
      "File \u001b[0;32m/Library/Frameworks/Python.framework/Versions/3.11/lib/python3.11/site-packages/qiskit/quantum_info/operators/custom_iterator.py:47\u001b[0m, in \u001b[0;36mCustomIterator.__next__\u001b[0;34m(self)\u001b[0m\n\u001b[1;32m     45\u001b[0m     \u001b[38;5;28;01mraise\u001b[39;00m \u001b[38;5;167;01mStopIteration\u001b[39;00m\n\u001b[1;32m     46\u001b[0m \u001b[38;5;28mself\u001b[39m\u001b[38;5;241m.\u001b[39m_iter \u001b[38;5;241m+\u001b[39m\u001b[38;5;241m=\u001b[39m \u001b[38;5;241m1\u001b[39m\n\u001b[0;32m---> 47\u001b[0m \u001b[38;5;28;01mreturn\u001b[39;00m \u001b[38;5;28;43mself\u001b[39;49m\u001b[43m[\u001b[49m\u001b[38;5;28;43mself\u001b[39;49m\u001b[38;5;241;43m.\u001b[39;49m\u001b[43m_iter\u001b[49m\u001b[43m \u001b[49m\u001b[38;5;241;43m-\u001b[39;49m\u001b[43m \u001b[49m\u001b[38;5;241;43m1\u001b[39;49m\u001b[43m]\u001b[49m\n",
      "File \u001b[0;32m/Library/Frameworks/Python.framework/Versions/3.11/lib/python3.11/site-packages/qiskit/quantum_info/operators/symplectic/pauli_list.py:1081\u001b[0m, in \u001b[0;36mPauliList.matrix_iter.<locals>.MatrixIterator.__getitem__\u001b[0;34m(self, key)\u001b[0m\n\u001b[1;32m   1080\u001b[0m \u001b[38;5;28;01mdef\u001b[39;00m \u001b[38;5;21m__getitem__\u001b[39m(\u001b[38;5;28mself\u001b[39m, key):\n\u001b[0;32m-> 1081\u001b[0m     \u001b[38;5;28;01mreturn\u001b[39;00m \u001b[38;5;28;43mself\u001b[39;49m\u001b[38;5;241;43m.\u001b[39;49m\u001b[43mobj\u001b[49m\u001b[38;5;241;43m.\u001b[39;49m\u001b[43m_to_matrix\u001b[49m\u001b[43m(\u001b[49m\n\u001b[1;32m   1082\u001b[0m \u001b[43m        \u001b[49m\u001b[38;5;28;43mself\u001b[39;49m\u001b[38;5;241;43m.\u001b[39;49m\u001b[43mobj\u001b[49m\u001b[38;5;241;43m.\u001b[39;49m\u001b[43m_z\u001b[49m\u001b[43m[\u001b[49m\u001b[43mkey\u001b[49m\u001b[43m]\u001b[49m\u001b[43m,\u001b[49m\u001b[43m \u001b[49m\u001b[38;5;28;43mself\u001b[39;49m\u001b[38;5;241;43m.\u001b[39;49m\u001b[43mobj\u001b[49m\u001b[38;5;241;43m.\u001b[39;49m\u001b[43m_x\u001b[49m\u001b[43m[\u001b[49m\u001b[43mkey\u001b[49m\u001b[43m]\u001b[49m\u001b[43m,\u001b[49m\u001b[43m \u001b[49m\u001b[38;5;28;43mself\u001b[39;49m\u001b[38;5;241;43m.\u001b[39;49m\u001b[43mobj\u001b[49m\u001b[38;5;241;43m.\u001b[39;49m\u001b[43m_phase\u001b[49m\u001b[43m[\u001b[49m\u001b[43mkey\u001b[49m\u001b[43m]\u001b[49m\u001b[43m,\u001b[49m\u001b[43m \u001b[49m\u001b[43msparse\u001b[49m\u001b[38;5;241;43m=\u001b[39;49m\u001b[43msparse\u001b[49m\n\u001b[1;32m   1083\u001b[0m \u001b[43m    \u001b[49m\u001b[43m)\u001b[49m\n",
      "File \u001b[0;32m/Library/Frameworks/Python.framework/Versions/3.11/lib/python3.11/site-packages/qiskit/quantum_info/operators/symplectic/base_pauli.py:428\u001b[0m, in \u001b[0;36mBasePauli._to_matrix\u001b[0;34m(z, x, phase, group_phase, sparse)\u001b[0m\n\u001b[1;32m    426\u001b[0m dim \u001b[38;5;241m=\u001b[39m \u001b[38;5;241m2\u001b[39m\u001b[38;5;241m*\u001b[39m\u001b[38;5;241m*\u001b[39mnum_qubits\n\u001b[1;32m    427\u001b[0m twos_array \u001b[38;5;241m=\u001b[39m \u001b[38;5;241m1\u001b[39m \u001b[38;5;241m<<\u001b[39m np\u001b[38;5;241m.\u001b[39marange(num_qubits)\n\u001b[0;32m--> 428\u001b[0m x_indices \u001b[38;5;241m=\u001b[39m np\u001b[38;5;241m.\u001b[39masarray(x)\u001b[38;5;241m.\u001b[39mdot(twos_array)\n\u001b[1;32m    429\u001b[0m z_indices \u001b[38;5;241m=\u001b[39m np\u001b[38;5;241m.\u001b[39masarray(z)\u001b[38;5;241m.\u001b[39mdot(twos_array)\n\u001b[1;32m    431\u001b[0m indptr \u001b[38;5;241m=\u001b[39m np\u001b[38;5;241m.\u001b[39marange(dim \u001b[38;5;241m+\u001b[39m \u001b[38;5;241m1\u001b[39m, dtype\u001b[38;5;241m=\u001b[39mnp\u001b[38;5;241m.\u001b[39muint)\n",
      "\u001b[0;31mKeyboardInterrupt\u001b[0m: "
     ]
    }
   ],
   "source": [
    "optimized2=optimization(np.zeros(9), costfn)"
   ]
  },
  {
   "cell_type": "code",
   "execution_count": 39,
   "id": "38090890",
   "metadata": {},
   "outputs": [],
   "source": [
    "optimized2=opt.minimize(fun=costfn, x0=np.zeros(9))"
   ]
  },
  {
   "cell_type": "code",
   "execution_count": 41,
   "id": "780f0add",
   "metadata": {},
   "outputs": [
    {
     "name": "stdout",
     "output_type": "stream",
     "text": [
      "{   'fun': 0.06344750975465213,\n",
      "    'jac': None,\n",
      "    'nfev': 1000,\n",
      "    'nit': 100,\n",
      "    'njev': 0,\n",
      "    'x': array([-5.00000000e-03, -5.00000000e-03, -3.86912724e-14, -4.99647242e-03,\n",
      "       -4.99647242e-03, -2.15105711e-14, -3.89671401e-03, -3.89671401e-03,\n",
      "       -2.03725925e-14])}\n"
     ]
    }
   ],
   "source": [
    "print(optimized2)"
   ]
  },
  {
   "cell_type": "code",
   "execution_count": 22,
   "id": "96af8dbd",
   "metadata": {},
   "outputs": [],
   "source": [
    "def krId(N):\n",
    "        matrix = np.array(1)\n",
    "        for j in range(N):\n",
    "            matrix = np.kron(matrix, IGate())\n",
    "        return matrix "
   ]
  },
  {
   "cell_type": "code",
   "execution_count": 5,
   "id": "dfc7ca5a",
   "metadata": {},
   "outputs": [
    {
     "data": {
      "text/plain": [
       "array([[ 0.25,  0.  ,  0.  ,  0.  ],\n",
       "       [ 0.  ,  6.25,  0.  ,  0.  ],\n",
       "       [ 0.  ,  0.  ,  2.25,  0.  ],\n",
       "       [ 0.  ,  0.  ,  0.  , 12.25]])"
      ]
     },
     "execution_count": 5,
     "metadata": {},
     "output_type": "execute_result"
    }
   ],
   "source": [
    "Hamiltonian(2,1)"
   ]
  },
  {
   "cell_type": "code",
   "execution_count": null,
   "id": "5f9a1b4f",
   "metadata": {},
   "outputs": [],
   "source": []
  }
 ],
 "metadata": {
  "kernelspec": {
   "display_name": "Python 3 (ipykernel)",
   "language": "python",
   "name": "python3"
  },
  "language_info": {
   "codemirror_mode": {
    "name": "ipython",
    "version": 3
   },
   "file_extension": ".py",
   "mimetype": "text/x-python",
   "name": "python",
   "nbconvert_exporter": "python",
   "pygments_lexer": "ipython3",
   "version": "3.11.4"
  }
 },
 "nbformat": 4,
 "nbformat_minor": 5
}
