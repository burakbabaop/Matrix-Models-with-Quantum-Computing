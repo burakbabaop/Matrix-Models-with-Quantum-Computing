{
 "cells": [
  {
   "cell_type": "code",
   "execution_count": 7,
   "metadata": {},
   "outputs": [],
   "source": [
    "import numpy as np\n",
    "from scipy.special import comb\n",
    "from Ansatz import ansatz_review_exact\n",
    "from qiskit.quantum_info import Statevector"
   ]
  },
  {
   "cell_type": "code",
   "execution_count": 2,
   "metadata": {},
   "outputs": [],
   "source": [
    "def coeff(K,j):\n",
    "    coeff_ = 0 \n",
    "    if j == 0:\n",
    "        for k in range(K):\n",
    "            coeff_ = coeff_ + 1/(k+1)\n",
    "    elif j == K:\n",
    "        coeff_ = (-1)**K / K\n",
    "    else:\n",
    "        for k in range(K):\n",
    "            coeff_ = coeff_ + comb(k+j, j) * (-1)**j /(k+j)        \n",
    "    return coeff_\n",
    "\n",
    "\n"
   ]
  },
  {
   "cell_type": "code",
   "execution_count": null,
   "metadata": {},
   "outputs": [],
   "source": [
    "def loss(circuit, hamiltonian):\n",
    "    state = Statevector(circuit)\n",
    "    loss_1 = state.expectation_value(hamiltonian)\n",
    "    "
   ]
  },
  {
   "cell_type": "code",
   "execution_count": null,
   "metadata": {},
   "outputs": [],
   "source": [
    "def"
   ]
  }
 ],
 "metadata": {
  "kernelspec": {
   "display_name": "MatrixModels",
   "language": "python",
   "name": "python3"
  },
  "language_info": {
   "codemirror_mode": {
    "name": "ipython",
    "version": 3
   },
   "file_extension": ".py",
   "mimetype": "text/x-python",
   "name": "python",
   "nbconvert_exporter": "python",
   "pygments_lexer": "ipython3",
   "version": "3.11.7"
  }
 },
 "nbformat": 4,
 "nbformat_minor": 2
}
