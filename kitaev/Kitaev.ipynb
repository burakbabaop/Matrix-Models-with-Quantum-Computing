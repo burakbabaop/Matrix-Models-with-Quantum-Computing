{
 "cells": [
  {
   "cell_type": "markdown",
   "id": "b79b5bd5",
   "metadata": {},
   "source": [
    " # Kitaev Webb Algorithm for Gaussians"
   ]
  },
  {
   "cell_type": "code",
   "execution_count": 2,
   "id": "0c4fa3a4",
   "metadata": {},
   "outputs": [],
   "source": [
    "import numpy as np\n",
    "from qiskit import *\n",
    "from qiskit import QuantumCircuit, ClassicalRegister, QuantumRegister, execute, Aer\n",
    "from qiskit.visualization import plot_histogram\n",
    "from qiskit.circuit.library import RYGate\n",
    "\n"
   ]
  },
  {
   "cell_type": "markdown",
   "id": "b91a9dce",
   "metadata": {},
   "source": [
    "## Functions"
   ]
  },
  {
   "cell_type": "code",
   "execution_count": 8,
   "id": "4654b3c2",
   "metadata": {},
   "outputs": [
    {
     "name": "stdout",
     "output_type": "stream",
     "text": [
      "1.036631502847818\n",
      "0.10570528431321867\n",
      "[1, 0, 1, 0, 0]\n"
     ]
    }
   ],
   "source": [
    "#define f for small and large sigma\n",
    "\n",
    "def f_small(sigma, mu,n):\n",
    "    return np.sum(np.exp((-(np.arange(-n,n+1, 1) - mu)**2)/float(sigma**2)))\n",
    "\n",
    "#def f_large(sigma,mu,N):\n",
    "    #return np.sum(np.exp((-(np.arange(-N, N+1, 1) - mu)**2)/sigma**2))\n",
    "\n",
    "def alpha_2pi(sigma, mu,n):\n",
    "    return (np.arccos(np.sqrt(f_small(sigma/2., mu/2.,n)/f_small(sigma, mu,n)))/(2*np.pi))\n",
    "           \n",
    "    \n",
    "def fraction_to_binary(fraction, num_bits): #this codes a number between 0 and 1 as Kitaev describes (page 3, paragraph before the section gaussian in multiple dimensions)\n",
    "    binary_rep = []\n",
    "\n",
    "    for _ in range(num_bits):\n",
    "        fraction *= 2\n",
    "        #print(fraction)\n",
    "        bit = int(fraction)\n",
    "        binary_rep.append(bit)\n",
    "        fraction -= bit\n",
    "\n",
    "    return binary_rep\n",
    "\n",
    "\n",
    "\n",
    "\n",
    "print(f_small(0.5,0,2))\n",
    "print(alpha_2pi(5,0,4))\n",
    "print(fraction_to_binary(0.625, 5))"
   ]
  },
  {
   "cell_type": "markdown",
   "id": "b7526cfd",
   "metadata": {},
   "source": [
    "# Circuit"
   ]
  },
  {
   "cell_type": "code",
   "execution_count": 21,
   "id": "afa1283f",
   "metadata": {},
   "outputs": [
    {
     "name": "stderr",
     "output_type": "stream",
     "text": [
      "/var/folders/dk/2y17dwn916n0849gyw2c2q3c0000gn/T/ipykernel_6125/3637811680.py:10: RuntimeWarning: invalid value encountered in arccos\n",
      "  return (np.arccos(np.sqrt(f_small(sigma/2., mu/2.,n)/f_small(sigma, mu,n)))/(2*np.pi))\n"
     ]
    },
    {
     "ename": "ValueError",
     "evalue": "cannot convert float NaN to integer",
     "output_type": "error",
     "traceback": [
      "\u001b[0;31m---------------------------------------------------------------------------\u001b[0m",
      "\u001b[0;31mValueError\u001b[0m                                Traceback (most recent call last)",
      "Cell \u001b[0;32mIn[21], line 16\u001b[0m\n\u001b[1;32m     14\u001b[0m         circuit\u001b[38;5;241m.\u001b[39mbarrier()\n\u001b[1;32m     15\u001b[0m         binary_fraction_1\u001b[38;5;241m=\u001b[39mfraction_to_binary(alpha_2pi(sigma_0,mu_0,n),N)\n\u001b[0;32m---> 16\u001b[0m         binary_fraction_2\u001b[38;5;241m=\u001b[39m\u001b[43mfraction_to_binary\u001b[49m\u001b[43m(\u001b[49m\u001b[43malpha_2pi\u001b[49m\u001b[43m(\u001b[49m\u001b[43msigma_0\u001b[49m\u001b[43m,\u001b[49m\u001b[43mmu_0_2\u001b[49m\u001b[43m,\u001b[49m\u001b[43mn\u001b[49m\u001b[43m)\u001b[49m\u001b[43m,\u001b[49m\u001b[43mN\u001b[49m\u001b[43m)\u001b[49m\n\u001b[1;32m     18\u001b[0m \u001b[38;5;66;03m# Initialize Supplementary Qubits.\u001b[39;00m\n\u001b[1;32m     19\u001b[0m         counter\u001b[38;5;241m=\u001b[39m\u001b[38;5;241m0\u001b[39m\n",
      "Cell \u001b[0;32mIn[8], line 19\u001b[0m, in \u001b[0;36mfraction_to_binary\u001b[0;34m(fraction, num_bits)\u001b[0m\n\u001b[1;32m     17\u001b[0m fraction \u001b[38;5;241m*\u001b[39m\u001b[38;5;241m=\u001b[39m \u001b[38;5;241m2\u001b[39m\n\u001b[1;32m     18\u001b[0m \u001b[38;5;66;03m#print(fraction)\u001b[39;00m\n\u001b[0;32m---> 19\u001b[0m bit \u001b[38;5;241m=\u001b[39m \u001b[38;5;28;43mint\u001b[39;49m\u001b[43m(\u001b[49m\u001b[43mfraction\u001b[49m\u001b[43m)\u001b[49m\n\u001b[1;32m     20\u001b[0m binary_rep\u001b[38;5;241m.\u001b[39mappend(bit)\n\u001b[1;32m     21\u001b[0m fraction \u001b[38;5;241m-\u001b[39m\u001b[38;5;241m=\u001b[39m bit\n",
      "\u001b[0;31mValueError\u001b[0m: cannot convert float NaN to integer"
     ]
    }
   ],
   "source": [
    "N=3#number of suplementary qubits/2\n",
    "n=2 #number of main qubits\n",
    "\n",
    "sigma_0=1\n",
    "mu_0=0.5\n",
    "\n",
    "mu_0_2=4\n",
    "\n",
    "\n",
    "circuit = QuantumCircuit(2*N+n,n)\n",
    "\n",
    "#\n",
    "for k in range(n): \n",
    "        circuit.barrier()\n",
    "        binary_fraction_1=fraction_to_binary(alpha_2pi(sigma_0,mu_0,n),N)\n",
    "        binary_fraction_2=fraction_to_binary(alpha_2pi(sigma_0,mu_0_2,n),N)\n",
    "        \n",
    "# Initialize Supplementary Qubits.\n",
    "        counter=0\n",
    "        for i in binary_fraction_1:\n",
    "            if i== 1:\n",
    "                    circuit.x(counter)\n",
    "\n",
    "            counter+=1\n",
    "        \n",
    "        counter_2=0\n",
    "        for l in binary_fraction_2: \n",
    "            if l== 1:\n",
    "                    circuit.x(counter_2+N)\n",
    "\n",
    "            counter_2+=1\n",
    "\n",
    "    #apply rotation \n",
    "        for m in range(len(binary_fraction_2)):\n",
    "            if k==0:\n",
    "                break\n",
    "            else:\n",
    "            #the following is a double controlled ry rotation,if q_(k-1) =1 the angle for mu-1 will be called, if 0 no rotation\n",
    "                ry = RYGate(2*np.pi/2**(m-1)).control(2,label=None)\n",
    "                ccry = RYGate(2*np.pi/2**(m-1)).control(2,label=None)\n",
    "                circuit.append(ccry,[m+N,2*N+k-1,2*N+k])\n",
    "                break\n",
    "        \n",
    "         \n",
    "        \n",
    "        circuit.x(2*N+k-1) \n",
    "        for j in range(len(binary_fraction_1)):\n",
    "            if k==0:\n",
    "                circuit.cry(2*np.pi/2**(j-1),j,2*N+k)\n",
    "            \n",
    "            else:\n",
    "            #we applied x gate inbetween two for loops, so if q_1 is 0 initially the rotation for the angle mu will be called\n",
    "                ry = RYGate(2*np.pi/2**(j)).control(2,label=None)\n",
    "                ccry = RYGate(2*np.pi/2**(j)).control(2,label=None)\n",
    "                circuit.append(ccry,[j,2*N+k-1,2*N+k])  \n",
    "                \n",
    "        circuit.x(2*N+k-1)\n",
    "        \n",
    "        \n",
    "\n",
    "\n",
    "    #reset the supplementary qubits\n",
    "        counter_3=0\n",
    "        for a in binary_fraction_1:\n",
    "            if a== 1:\n",
    "                    circuit.x(counter_3)\n",
    "\n",
    "            counter_3+=1\n",
    "        \n",
    "        counter_4=0\n",
    "        for b in binary_fraction_2:\n",
    "            if b== 1:\n",
    "                    circuit.x(counter_4+N)\n",
    "\n",
    "            counter_4+=1\n",
    "            \n",
    "        #update the parameters\n",
    "        print(binary_fraction_1)\n",
    "        print(binary_fraction_2)\n",
    "        print(sigma_0)\n",
    "        print(mu_0)\n",
    "        print(mu_0_2)\n",
    "        sigma_0=sigma_0/2.0\n",
    "        mu_0=(mu_0)/2.0\n",
    "        mu_0_2=(mu_0-1)/2.0\n",
    "        \n",
    "\n",
    "\n",
    "circuit.measure(np.arange(2*N,2*N+n,1),np.arange(0,n,1))\n",
    "    \n",
    "        \n",
    "        \n",
    "\n",
    "circuit.draw(\"mpl\",justify=\"none\")\n",
    "\n",
    "\n",
    "\n"
   ]
  },
  {
   "cell_type": "code",
   "execution_count": null,
   "id": "4332de88",
   "metadata": {},
   "outputs": [],
   "source": []
  },
  {
   "cell_type": "markdown",
   "id": "9c0e6481",
   "metadata": {},
   "source": [
    "## Executing the Simulation"
   ]
  },
  {
   "cell_type": "code",
   "execution_count": 13,
   "id": "172569a9",
   "metadata": {},
   "outputs": [
    {
     "data": {
      "image/png": "[encoded data removed]",
      "text/plain": [
       "<Figure size 700x500 with 1 Axes>"
      ]
     },
     "execution_count": 13,
     "metadata": {},
     "output_type": "execute_result"
    }
   ],
   "source": [
    "# Simulation part\n",
    "\n",
    "backend = Aer.get_backend('qasm_simulator')\n",
    "job = execute(circuit, backend, shots=10000)\n",
    "result = job.result()\n",
    "counts = result.get_counts(circuit)#\n",
    "plot_histogram(counts)"
   ]
  },
  {
   "cell_type": "code",
   "execution_count": 10,
   "id": "750c1e0f",
   "metadata": {},
   "outputs": [
    {
     "ename": "NameError",
     "evalue": "name 'float_to_binary' is not defined",
     "output_type": "error",
     "traceback": [
      "\u001b[0;31m---------------------------------------------------------------------------\u001b[0m",
      "\u001b[0;31mNameError\u001b[0m                                 Traceback (most recent call last)",
      "Cell \u001b[0;32mIn[10], line 1\u001b[0m\n\u001b[0;32m----> 1\u001b[0m \u001b[43mfloat_to_binary\u001b[49m(\u001b[38;5;241m1.\u001b[39m)\n",
      "\u001b[0;31mNameError\u001b[0m: name 'float_to_binary' is not defined"
     ]
    }
   ],
   "source": [
    "float_to_binary(1."
   ]
  },
  {
   "cell_type": "code",
   "execution_count": 35,
   "id": "c4e4c54a",
   "metadata": {},
   "outputs": [
    {
     "data": {
      "text/plain": [
       "['1001']"
      ]
     },
     "execution_count": 35,
     "metadata": {},
     "output_type": "execute_result"
    }
   ],
   "source": [
    "numbers_list"
   ]
  },
  {
   "cell_type": "code",
   "execution_count": 36,
   "id": "c022f45c",
   "metadata": {},
   "outputs": [
    {
     "data": {
      "text/plain": [
       "str"
      ]
     },
     "execution_count": 36,
     "metadata": {},
     "output_type": "execute_result"
    }
   ],
   "source": [
    "type(binary_fraction)"
   ]
  },
  {
   "cell_type": "code",
   "execution_count": 29,
   "id": "370df9d5",
   "metadata": {},
   "outputs": [
    {
     "data": {
      "text/plain": [
       "range(0, 2)"
      ]
     },
     "execution_count": 29,
     "metadata": {},
     "output_type": "execute_result"
    }
   ],
   "source": [
    "range(2)"
   ]
  },
  {
   "cell_type": "code",
   "execution_count": 30,
   "id": "231593a6",
   "metadata": {},
   "outputs": [
    {
     "name": "stdout",
     "output_type": "stream",
     "text": [
      "range(0, 2)\n"
     ]
    }
   ],
   "source": [
    "print(range(2))"
   ]
  },
  {
   "cell_type": "code",
   "execution_count": 6,
   "id": "23037535",
   "metadata": {},
   "outputs": [
    {
     "data": {
      "text/plain": [
       "array([0, 1])"
      ]
     },
     "execution_count": 6,
     "metadata": {},
     "output_type": "execute_result"
    }
   ],
   "source": [
    "np.arange(2)"
   ]
  },
  {
   "cell_type": "code",
   "execution_count": 7,
   "id": "0ad3ce6d",
   "metadata": {},
   "outputs": [
    {
     "data": {
      "text/plain": [
       "[0, 1]"
      ]
     },
     "execution_count": 7,
     "metadata": {},
     "output_type": "execute_result"
    }
   ],
   "source": [
    "list(range(2))"
   ]
  },
  {
   "cell_type": "code",
   "execution_count": null,
   "id": "b2ba1918",
   "metadata": {},
   "outputs": [],
   "source": []
  }
 ],
 "metadata": {
  "kernelspec": {
   "display_name": "Python 3 (ipykernel)",
   "language": "python",
   "name": "python3"
  },
  "language_info": {
   "codemirror_mode": {
    "name": "ipython",
    "version": 3
   },
   "file_extension": ".py",
   "mimetype": "text/x-python",
   "name": "python",
   "nbconvert_exporter": "python",
   "pygments_lexer": "ipython3",
   "version": "3.11.4"
  }
 },
 "nbformat": 4,
 "nbformat_minor": 5
}
