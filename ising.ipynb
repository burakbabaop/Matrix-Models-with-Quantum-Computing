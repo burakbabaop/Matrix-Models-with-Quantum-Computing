{
 "cells": [
  {
   "cell_type": "code",
   "execution_count": 3,
   "id": "a6e579be",
   "metadata": {},
   "outputs": [
    {
     "name": "stderr",
     "output_type": "stream",
     "text": [
      "/var/folders/dk/2y17dwn916n0849gyw2c2q3c0000gn/T/ipykernel_1145/3060990025.py:5: DeprecationWarning: ``qiskit.algorithms`` has been migrated to an independent package: https://github.com/qiskit-community/qiskit-algorithms. The ``qiskit.algorithms`` import path is deprecated as of qiskit-terra 0.25.0 and will be removed no earlier than 3 months after the release date. Please run ``pip install qiskit_algorithms`` and use ``import qiskit_algorithms`` instead.\n",
      "  from qiskit.algorithms.optimizers import GradientDescent, ADAM, L_BFGS_B\n"
     ]
    }
   ],
   "source": [
    "import numpy as np\n",
    "from qiskit import *\n",
    "from qiskit.visualization import plot_histogram\n",
    "from qiskit.circuit.library import *\n",
    "from qiskit.algorithms.optimizers import GradientDescent, ADAM, L_BFGS_B\n",
    "from qiskit.quantum_info.operators import Operator\n",
    "from qiskit.primitives import Estimator\n",
    "from qiskit.circuit import Parameter\n",
    "from qiskit.quantum_info import DensityMatrix\n",
    "from scipy.optimize import *\n",
    "import matplotlib.pyplot as plt\n",
    "from qiskit.algorithms import VarQITE\n",
    "from qiskit.algorithms.time_evolvers.variational import ImaginaryMcLachlanPrinciple\n",
    "from qiskit.algorithms import TimeEvolutionProblem\n",
    "from qiskit.quantum_info import *\n",
    "import pylab\n",
    "from qiskit.algorithms import SciPyImaginaryEvolver\n",
    "from qiskit.quantum_info import Statevector\n",
    "import matplotlib.pyplot as plt "
   ]
  },
  {
   "cell_type": "code",
   "execution_count": 41,
   "id": "df92ad87",
   "metadata": {},
   "outputs": [],
   "source": [
    "def Ising(h,N):\n",
    "    def krZ(m, N):\n",
    "        matrix = np.array(1)\n",
    "        for j in range(N):\n",
    "            if m == j:\n",
    "                matrix = np.kron(matrix, ZGate())     \n",
    "            else:\n",
    "                matrix = np.kron(matrix, IGate())\n",
    "        return matrix  \n",
    "    def krX(m, N):\n",
    "        matrix = np.array(1)\n",
    "        for j in range(N):\n",
    "            if m == j:\n",
    "                matrix = np.kron(matrix, XGate())     \n",
    "            else:\n",
    "                matrix = np.kron(matrix, IGate())\n",
    "        return matrix  \n",
    "    ising_mat = 0\n",
    "    for l in range(N):\n",
    "        if l+1 < N:\n",
    "            ising = - np.matmul(krZ(l,N),krZ(l+1,N)) - h*krX(l,N)\n",
    "            ising_mat = ising_mat + ising\n",
    "        else:\n",
    "            ising_mat = ising_mat + h*krX(l,N)\n",
    "    return ising_mat    "
   ]
  },
  {
   "cell_type": "code",
   "execution_count": 43,
   "id": "b314f8b4",
   "metadata": {},
   "outputs": [
    {
     "data": {
      "text/plain": [
       "array([[-1.+0.j,  1.+0.j, -1.+0.j,  0.+0.j],\n",
       "       [ 1.+0.j,  1.+0.j,  0.+0.j, -1.+0.j],\n",
       "       [-1.+0.j,  0.+0.j,  1.+0.j,  1.+0.j],\n",
       "       [ 0.+0.j, -1.+0.j,  1.+0.j, -1.+0.j]])"
      ]
     },
     "execution_count": 43,
     "metadata": {},
     "output_type": "execute_result"
    }
   ],
   "source": [
    "Ising(1,2)"
   ]
  },
  {
   "cell_type": "code",
   "execution_count": 24,
   "id": "7062f199",
   "metadata": {},
   "outputs": [],
   "source": [
    "def Ansatz_varqite(N, depth):\n",
    "    circuit = QuantumCircuit(N)\n",
    "    thetas = []\n",
    "    for l in range(N*(depth+1)):\n",
    "        thetas.append(Parameter('θ_'+str(l)))\n",
    "    counter = 0\n",
    "    for j in range(N):\n",
    "        if j+counter < N:\n",
    "            circuit.ry(thetas[j + counter],j + counter)\n",
    "        if j+1+counter < N:\n",
    "            circuit.rx(thetas[j + 1 + counter],j + counter)\n",
    "        if j+1+counter < N:\n",
    "            circuit.cx(j+counter,(j+1)+counter)\n",
    "        counter = counter + 1\n",
    "    \n",
    "    counter_3 = 0\n",
    "    for i in range(depth):\n",
    "        circuit.barrier()\n",
    "        counter_2 = 0\n",
    "        \n",
    "        for l in range(N):\n",
    "            if l +counter_2 + counter_3< len(thetas):\n",
    "                   circuit.ry(thetas[l + counter_2 +counter_3+ N], l + counter_2)\n",
    "        counter_3 = counter_3 + N     \n",
    "        for p in range(N):\n",
    "            circuit.cx(p,(p+1) % N)\n",
    "          \n",
    "    \n",
    "    return circuit\n",
    "        "
   ]
  },
  {
   "cell_type": "code",
   "execution_count": 49,
   "id": "3fb1a925",
   "metadata": {},
   "outputs": [],
   "source": [
    "hamiltonian = Operator(Ising(0,6))\n",
    "var_principle = ImaginaryMcLachlanPrinciple()\n",
    "time = 2.0\n",
    "aux_ops = [hamiltonian]\n",
    "init_param_values =  [np.pi/2, np.pi]*3 + [0]*12\n",
    "ansatz = Ansatz_varqite(6,2)\n",
    "evolution_problem = TimeEvolutionProblem(hamiltonian, time, aux_operators=aux_ops)\n",
    "var_qite = VarQITE(ansatz, init_param_values, var_principle, Estimator())\n",
    "evolution_result = var_qite.evolve(evolution_problem)"
   ]
  },
  {
   "cell_type": "code",
   "execution_count": 50,
   "id": "cea99e79",
   "metadata": {},
   "outputs": [],
   "source": [
    "init_state = Statevector(ansatz.assign_parameters(init_param_values))\n",
    "evolution_problem = TimeEvolutionProblem(hamiltonian, time, initial_state=init_state, aux_operators=aux_ops)\n",
    "exact_evol = SciPyImaginaryEvolver(num_timesteps=200)\n",
    "sol = exact_evol.evolve(evolution_problem)"
   ]
  },
  {
   "cell_type": "code",
   "execution_count": 51,
   "id": "9ce98d92",
   "metadata": {},
   "outputs": [
    {
     "data": {
      "image/png": "[encoded data removed]",
      "text/plain": [
       "<Figure size 640x480 with 1 Axes>"
      ]
     },
     "metadata": {},
     "output_type": "display_data"
    }
   ],
   "source": [
    "h_exp_val = np.array([ele[0][0] for ele in evolution_result.observables])\n",
    "\n",
    "exact_h_exp_val = sol.observables[0][0].real\n",
    "\n",
    "times = evolution_result.times\n",
    "pylab.plot(times, h_exp_val, label= \"VarQITE\")\n",
    "pylab.plot(times, exact_h_exp_val , label= \"Exact\",  linestyle='--')\n",
    "pylab.xlabel(\"Time\")\n",
    "pylab.ylabel(r\"$\\langle H \\rangle$ (energy)\")\n",
    "pylab.legend(loc=\"upper right\");"
   ]
  },
  {
   "cell_type": "code",
   "execution_count": 47,
   "id": "8ff7beb8",
   "metadata": {},
   "outputs": [],
   "source": [
    "rho = DensityMatrix(evolution_result.evolved_state)\n",
    "rho_a = partial_trace(state=rho, qargs=[1,3,5])"
   ]
  },
  {
   "cell_type": "code",
   "execution_count": 48,
   "id": "acd6586a",
   "metadata": {},
   "outputs": [
    {
     "data": {
      "image/png": "[encoded data removed]",
      "text/plain": [
       "<Figure size 800x500 with 2 Axes>"
      ]
     },
     "execution_count": 48,
     "metadata": {},
     "output_type": "execute_result"
    }
   ],
   "source": [
    "rho_a.draw(output = 'hinton')"
   ]
  },
  {
   "cell_type": "code",
   "execution_count": null,
   "id": "358bd80b",
   "metadata": {},
   "outputs": [],
   "source": []
  }
 ],
 "metadata": {
  "kernelspec": {
   "display_name": "Python 3 (ipykernel)",
   "language": "python",
   "name": "python3"
  },
  "language_info": {
   "codemirror_mode": {
    "name": "ipython",
    "version": 3
   },
   "file_extension": ".py",
   "mimetype": "text/x-python",
   "name": "python",
   "nbconvert_exporter": "python",
   "pygments_lexer": "ipython3",
   "version": "3.11.5"
  }
 },
 "nbformat": 4,
 "nbformat_minor": 5
}
