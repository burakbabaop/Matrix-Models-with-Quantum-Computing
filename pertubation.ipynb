{
 "cells": [
  {
   "cell_type": "code",
   "execution_count": 1,
   "metadata": {},
   "outputs": [],
   "source": [
    "import hamiltonianstryout as tr\n",
    "import create_distribution as cr\n",
    "import one_matrix_model as om\n",
    "import importlib\n",
    "import numpy as np\n",
    "importlib.reload(cr)\n",
    "from qiskit.quantum_info import Statevector\n",
    "import Ansatz as an "
   ]
  },
  {
   "cell_type": "code",
   "execution_count": 38,
   "metadata": {},
   "outputs": [],
   "source": [
    "# create hamiltonian for V =  x^2 + g x^3 \n",
    "D = 3\n",
    "N = 1 \n",
    "a = 1\n",
    "g = 0.001\n",
    "power = 2\n",
    "power_interaction = 3\n",
    "squareterm = tr.matrix_terms(qubits_per_dim = D, dimension= N, lattice_spacing = a, pow = power)\n",
    "interaction = tr.matrix_terms(qubits_per_dim = D, dimension= N, lattice_spacing = a, pow = power_interaction) \n",
    "hamiltonian = squareterm - g * interaction"
   ]
  },
  {
   "cell_type": "code",
   "execution_count": 39,
   "metadata": {},
   "outputs": [
    {
     "name": "stdout",
     "output_type": "stream",
     "text": [
      "54\n"
     ]
    }
   ],
   "source": [
    "varqite = cr.create_distribution_2_varqite(qubits =  D * (N+1), depth = 1 , hamilton = hamiltonian, beta = 1)"
   ]
  },
  {
   "cell_type": "code",
   "execution_count": 40,
   "metadata": {},
   "outputs": [],
   "source": [
    "scipy =  cr.create_distribution_scipy(qubits =  D * (N+1), depth = 1 , hamilton = hamiltonian, beta = 1)"
   ]
  },
  {
   "cell_type": "code",
   "execution_count": 41,
   "metadata": {},
   "outputs": [
    {
     "name": "stdout",
     "output_type": "stream",
     "text": [
      "-0.018022388738726858\n"
     ]
    },
    {
     "data": {
      "image/png": "[encoded data removed]",
      "text/plain": [
       "<Figure size 640x480 with 1 Axes>"
      ]
     },
     "metadata": {},
     "output_type": "display_data"
    }
   ],
   "source": [
    "cr.quick_compare(varqite, scipy)"
   ]
  },
  {
   "cell_type": "code",
   "execution_count": 42,
   "metadata": {},
   "outputs": [
    {
     "name": "stdout",
     "output_type": "stream",
     "text": [
      "(0.9840108779766964+0j)\n"
     ]
    }
   ],
   "source": [
    "state= Statevector(varqite.evolved_state) \n",
    "value =state.expectation_value(om.vandermonde_2(1,3).power(2), list(range(0,6)))\n",
    "print(value)\n"
   ]
  },
  {
   "cell_type": "code",
   "execution_count": 43,
   "metadata": {},
   "outputs": [
    {
     "name": "stdout",
     "output_type": "stream",
     "text": [
      "(1.0020465256733124+0j)\n"
     ]
    }
   ],
   "source": [
    "#python_result\n",
    "python_res = np.trace(np.exp(-np.real(hamiltonian.to_matrix()))* om.vandermonde_2(1,3).power(2).to_matrix()) / np.trace(np.exp(-np.real(hamiltonian.to_matrix())))\n",
    "print(python_res)"
   ]
  },
  {
   "cell_type": "code",
   "execution_count": 45,
   "metadata": {},
   "outputs": [
    {
     "name": "stdout",
     "output_type": "stream",
     "text": [
      "54\n"
     ]
    }
   ],
   "source": [
    "varqite_2 = cr.create_distribution_2_varqite(qubits =  D * (N+1), depth = 1 , hamilton = squareterm, beta = 1)"
   ]
  },
  {
   "cell_type": "code",
   "execution_count": 49,
   "metadata": {},
   "outputs": [
    {
     "name": "stdout",
     "output_type": "stream",
     "text": [
      "(0.9840225342885027+0j)\n",
      "first order correction= (2.3621158442856425e-06+0j)\n",
      "second order correction= (5.769182884644013e-06+0j)\n"
     ]
    }
   ],
   "source": [
    "state_2 = Statevector(varqite_2.evolved_state) \n",
    "zero_order = state_2.expectation_value(om.vandermonde_2(1,3).power(2), list(range(0,6)))\n",
    "first_order = state_2.expectation_value(g*interaction @ om.vandermonde_2(1,3).power(2), list(range(0,6)))\n",
    "second_order =  state_2.expectation_value(g**2/2*interaction.power(2) @ om.vandermonde_2(1,3).power(2), list(range(0,6)))\n",
    "print(zero_order + first_order)\n",
    "\n",
    "\n",
    "print(\"first order correction=\" ,first_order)\n",
    "print(\"second order correction=\" ,second_order)\n"
   ]
  },
  {
   "cell_type": "code",
   "execution_count": 4,
   "metadata": {},
   "outputs": [],
   "source": [
    "def parameter_finder(varqite):\n",
    "    parameters = []\n",
    "    params = varqite.parameter_values[-1]\n",
    "    counters = []\n",
    "    counter = 0\n",
    "    for parameter in params:\n",
    "        if parameter > 10**(-4):\n",
    "            parameters.append(parameter)\n",
    "            counters.append(counter)\n",
    "        counter += 1\n",
    "    return parameters, counters"
   ]
  },
  {
   "cell_type": "code",
   "execution_count": null,
   "metadata": {},
   "outputs": [],
   "source": [
    "\n"
   ]
  },
  {
   "cell_type": "code",
   "execution_count": null,
   "metadata": {},
   "outputs": [],
   "source": []
  },
  {
   "cell_type": "code",
   "execution_count": null,
   "metadata": {},
   "outputs": [],
   "source": [
    "for index "
   ]
  }
 ],
 "metadata": {
  "kernelspec": {
   "display_name": "MatrixModels",
   "language": "python",
   "name": "python3"
  },
  "language_info": {
   "codemirror_mode": {
    "name": "ipython",
    "version": 3
   },
   "file_extension": ".py",
   "mimetype": "text/x-python",
   "name": "python",
   "nbconvert_exporter": "python",
   "pygments_lexer": "ipython3",
   "version": "3.11.7"
  }
 },
 "nbformat": 4,
 "nbformat_minor": 2
}
